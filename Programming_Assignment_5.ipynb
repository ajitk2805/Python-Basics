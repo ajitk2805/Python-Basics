{
 "cells": [
  {
   "attachments": {},
   "cell_type": "markdown",
   "metadata": {},
   "source": [
    "# Python Basics: Prgoramming Assignment 5"
   ]
  },
  {
   "attachments": {},
   "cell_type": "markdown",
   "metadata": {},
   "source": [
    "1. Write a Python Program to Find LCM?"
   ]
  },
  {
   "cell_type": "code",
   "execution_count": 8,
   "metadata": {},
   "outputs": [
    {
     "data": {
      "text/plain": [
       "170"
      ]
     },
     "execution_count": 8,
     "metadata": {},
     "output_type": "execute_result"
    }
   ],
   "source": [
    "def lcm(num1, num2):\n",
    "    \"\"\"This function finds the LCM of the two given numbers. The least common multiple (L.C.M.) of two numbers is the smallest positive integer \n",
    "    that is perfectly divisible by the two given numbers.\"\"\"\n",
    "    try:\n",
    "        for i in range(max(num1,num2), (num1*num2)+1, max(num1,num2)):\n",
    "            if i%num1 == i%num2 == 0:\n",
    "                lcm = i\n",
    "                break\n",
    "        return lcm\n",
    "    except Exception as e:\n",
    "        print(e)\n",
    "\n",
    "lcm(10,17)"
   ]
  },
  {
   "attachments": {},
   "cell_type": "markdown",
   "metadata": {},
   "source": [
    "2. Write a Python Program to Find HCF?"
   ]
  },
  {
   "cell_type": "code",
   "execution_count": 13,
   "metadata": {},
   "outputs": [
    {
     "data": {
      "text/plain": [
       "6"
      ]
     },
     "execution_count": 13,
     "metadata": {},
     "output_type": "execute_result"
    }
   ],
   "source": [
    "def hcf(num1, num2):\n",
    "    \"\"\"This function finds the HCF of the given two numbers\"\"\"\n",
    "    try:\n",
    "        for i in range(1, min(num1,num2)+1):\n",
    "            if num1%i == num2%i == 0:\n",
    "                hcf = i\n",
    "        return hcf\n",
    "    except Exception as e:\n",
    "        print(e)\n",
    "\n",
    "hcf(54,24)"
   ]
  },
  {
   "attachments": {},
   "cell_type": "markdown",
   "metadata": {},
   "source": [
    "3. Write a Python Program to Convert Decimal to Binary, Octal and Hexadecimal?"
   ]
  },
  {
   "cell_type": "code",
   "execution_count": 14,
   "metadata": {},
   "outputs": [
    {
     "name": "stdout",
     "output_type": "stream",
     "text": [
      "The decimal value of 123 is:\n",
      "0b1111011 in binary.\n",
      "0o173 in octal.\n",
      "0x7b in hexadecimal.\n"
     ]
    }
   ],
   "source": [
    "def dec_to_bin_octa_hex(dec):\n",
    "    \"\"\"This function converts decimal to binary, octal and hexadecimal\"\"\"\n",
    "    try:\n",
    "        print(\"The decimal value of\", dec, \"is:\")\n",
    "        print(bin(dec), \"in binary.\")\n",
    "        print(oct(dec), \"in octal.\")\n",
    "        print(hex(dec), \"in hexadecimal.\")\n",
    "    except Exception as e:\n",
    "        print(e)\n",
    "\n",
    "dec_to_bin_octa_hex(123)"
   ]
  },
  {
   "attachments": {},
   "cell_type": "markdown",
   "metadata": {},
   "source": [
    "4. Write a Python Program To Find ASCII value of a character?"
   ]
  },
  {
   "cell_type": "code",
   "execution_count": 17,
   "metadata": {},
   "outputs": [
    {
     "name": "stdout",
     "output_type": "stream",
     "text": [
      "The ASCII value of t is 116.\n"
     ]
    }
   ],
   "source": [
    "def ascii(char):\n",
    "    \"\"\"This function finds the ASCII value of a character\"\"\"\n",
    "    return ord(char)\n",
    "\n",
    "char = 't'\n",
    "print(f\"The ASCII value of {char} is {ascii(char)}.\")"
   ]
  },
  {
   "attachments": {},
   "cell_type": "markdown",
   "metadata": {},
   "source": [
    "5. Write a Python Program to Make a Simple Calculator with 4 basic mathematical operations?"
   ]
  },
  {
   "cell_type": "code",
   "execution_count": 49,
   "metadata": {},
   "outputs": [
    {
     "name": "stdout",
     "output_type": "stream",
     "text": [
      "addition of 1.4 and 6 is 7.4\n",
      "9 subtracted from 7 is -2\n",
      "5 divided by 2 is 2.5\n",
      "9 multiplied by 8 is 72\n"
     ]
    }
   ],
   "source": [
    "class calc:\n",
    "    \"\"\"This is a simple calculator function that performs addition, subtraction, division, multiplication\"\"\"\n",
    "    try:\n",
    "        @staticmethod\n",
    "        def add(a,b):\n",
    "            print(f\"addition of {a} and {b} is {a+b}\")\n",
    "            \n",
    "        @staticmethod\n",
    "        def subtract(a,b):\n",
    "            print(f\"{b} subtracted from {a} is {a-b}\")\n",
    "\n",
    "        @staticmethod\n",
    "        def divide(a,b):\n",
    "            print(f\"{a} divided by {b} is {a/b}\")\n",
    "\n",
    "        @staticmethod\n",
    "        def multiply(a,b):\n",
    "            print(f\"{a} multiplied by {b} is {a*b}\")\n",
    "\n",
    "    except Exception as e:\n",
    "        print(e)\n",
    "\n",
    "try:\n",
    "    obj = calc()\n",
    "    obj.add(1.4,6)\n",
    "    obj.subtract(7,9)\n",
    "    obj.divide(5,2)\n",
    "    obj.multiply(9,8)\n",
    "except Exception as e:\n",
    "    print(e)"
   ]
  },
  {
   "cell_type": "code",
   "execution_count": null,
   "metadata": {},
   "outputs": [],
   "source": []
  },
  {
   "cell_type": "code",
   "execution_count": null,
   "metadata": {},
   "outputs": [],
   "source": []
  }
 ],
 "metadata": {
  "kernelspec": {
   "display_name": "base",
   "language": "python",
   "name": "python3"
  },
  "language_info": {
   "codemirror_mode": {
    "name": "ipython",
    "version": 3
   },
   "file_extension": ".py",
   "mimetype": "text/x-python",
   "name": "python",
   "nbconvert_exporter": "python",
   "pygments_lexer": "ipython3",
   "version": "3.8.5"
  },
  "orig_nbformat": 4
 },
 "nbformat": 4,
 "nbformat_minor": 2
}
