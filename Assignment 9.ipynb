{
 "cells": [
  {
   "cell_type": "markdown",
   "id": "319f03a2-f69d-431f-b0e6-570edb2a0bc3",
   "metadata": {},
   "source": [
    "# Python_Basics_Assignment 9"
   ]
  },
  {
   "cell_type": "markdown",
   "id": "2f4ec32a-e8b3-4eed-92e5-bad51e0311fa",
   "metadata": {},
   "source": [
    "1. To what does a relative path refer?\n"
   ]
  },
  {
   "cell_type": "markdown",
   "id": "13410711-8f0a-4e66-a2cb-c3e8c9f27b99",
   "metadata": {},
   "source": [
    "A relative path in Python is a path that describes the location of a directory relative to the entry point where you run the Python script."
   ]
  },
  {
   "cell_type": "markdown",
   "id": "f24b3b85-1e73-4860-96c6-bc07969778b9",
   "metadata": {},
   "source": [
    "2. What does an absolute path start with your operating system?"
   ]
  },
  {
   "cell_type": "markdown",
   "id": "10e46fa5-d6dc-4fc2-86f7-64442f6ef7fe",
   "metadata": {},
   "source": [
    "An absolute path is a path that contains the entire path to the file or directory that you need to access. This path will begin at the home directory of your computer and will end with the file or directory that you wish to access.\n",
    "Absolute paths start with the root folder, such as / or C:\\."
   ]
  },
  {
   "cell_type": "markdown",
   "id": "1be52453-1a10-4426-a3a0-a28082efa1ae",
   "metadata": {},
   "source": [
    "3. What do the functions os.getcwd() and os.chdir() do?\n"
   ]
  },
  {
   "cell_type": "markdown",
   "id": "18178fae-e917-4cf7-b9c9-2c59617600c9",
   "metadata": {},
   "source": [
    "The os.getcwd() function returns the current working directory. The os.chdir() function changes the current working directory."
   ]
  },
  {
   "cell_type": "markdown",
   "id": "2748af37-298f-445a-bccc-948b453e40bc",
   "metadata": {},
   "source": [
    "4. What are the . and .. folders?\n"
   ]
  },
  {
   "cell_type": "markdown",
   "id": "a481de10-1c6e-4f6e-80fc-0c3d3f24e840",
   "metadata": {},
   "source": [
    "The . folder is the current folder, and .. is the parent folder."
   ]
  },
  {
   "cell_type": "markdown",
   "id": "43cd624e-8330-4e37-9f0c-41d5569edb77",
   "metadata": {},
   "source": [
    "5. In C:\\bacon\\eggs\\spam.txt, which part is the dir name, and which part is the base name?\n"
   ]
  },
  {
   "cell_type": "markdown",
   "id": "1df352be-6f56-46b2-848e-b245f20b6687",
   "metadata": {},
   "source": [
    "C:\\bacon\\eggs is the dir name, while spam.txt is the base name."
   ]
  },
  {
   "cell_type": "markdown",
   "id": "0be09c4a-9d5b-4a8e-8242-21c1cf5a5d98",
   "metadata": {},
   "source": [
    "6. What are the three “mode” arguments that can be passed to the open() function?"
   ]
  },
  {
   "cell_type": "markdown",
   "id": "8337efee-0c2d-4f43-a8c7-8ce18db8c39b",
   "metadata": {},
   "source": [
    "The string 'r' for read mode, 'w' for write mode, and 'a' for append mode"
   ]
  },
  {
   "cell_type": "markdown",
   "id": "56fe8dd6-ee64-4fa6-8f97-538bd531d99a",
   "metadata": {},
   "source": [
    "7. What happens if an existing file is opened in write mode?\n"
   ]
  },
  {
   "cell_type": "markdown",
   "id": "9d0d81b8-d2f5-49a0-99d2-d61bdf765ab2",
   "metadata": {},
   "source": [
    "An existing file opened in write mode is erased and completely overwritten."
   ]
  },
  {
   "cell_type": "markdown",
   "id": "c1f10224-1915-4576-9a07-3c67f293922c",
   "metadata": {},
   "source": [
    "8. How do you tell the difference between read() and readlines()?\n"
   ]
  },
  {
   "cell_type": "markdown",
   "id": "992fcd8f-43dd-4fa2-8627-b0060998abf8",
   "metadata": {},
   "source": [
    "The read() method returns the file's entire contents as a single string value. The readlines() method returns a list of strings, where each string is a line from the file's contents."
   ]
  },
  {
   "cell_type": "markdown",
   "id": "68a474f7-a05c-45cc-9dac-2dde43007415",
   "metadata": {},
   "source": [
    "9. What data structure does a shelf value resemble?"
   ]
  },
  {
   "cell_type": "markdown",
   "id": "7aa57528-ffad-4aea-8811-3a87a13c8abe",
   "metadata": {},
   "source": [
    "A shelf value resembles a dictionary value; it has keys and values, along with keys() and values() methods that work similarly to the dictionary methods of the same names."
   ]
  },
  {
   "cell_type": "code",
   "execution_count": null,
   "id": "10e0e57e-ffbb-47bf-ae4a-10dd405e1baf",
   "metadata": {},
   "outputs": [],
   "source": []
  }
 ],
 "metadata": {
  "kernelspec": {
   "display_name": "Python 3 (ipykernel)",
   "language": "python",
   "name": "python3"
  },
  "language_info": {
   "codemirror_mode": {
    "name": "ipython",
    "version": 3
   },
   "file_extension": ".py",
   "mimetype": "text/x-python",
   "name": "python",
   "nbconvert_exporter": "python",
   "pygments_lexer": "ipython3",
   "version": "3.10.6"
  }
 },
 "nbformat": 4,
 "nbformat_minor": 5
}
