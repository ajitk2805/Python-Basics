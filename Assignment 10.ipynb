{
 "cells": [
  {
   "cell_type": "markdown",
   "id": "84ef5658-7f47-4896-a1ee-2f4cdfb50caa",
   "metadata": {},
   "source": [
    "# Python_Basics_Assignment 10"
   ]
  },
  {
   "cell_type": "markdown",
   "id": "562d09c6-5426-4cc4-8dce-9c16a684b330",
   "metadata": {},
   "source": [
    "1. How do you distinguish between shutil.copy() and shutil.copytree()?"
   ]
  },
  {
   "cell_type": "markdown",
   "id": "3e6f4761-9f16-448b-88ae-96d7657117ed",
   "metadata": {},
   "source": [
    "While shutil.copy() will copy a single file, shutil.copytree() will copy an entire folder and every folder and file contained in it."
   ]
  },
  {
   "cell_type": "markdown",
   "id": "dc984421-48ae-42c7-af91-3d133b39d9c9",
   "metadata": {},
   "source": [
    "2. What function is used to rename files??"
   ]
  },
  {
   "cell_type": "markdown",
   "id": "b178a9a0-9bc9-4f4f-bccd-9593d32e1910",
   "metadata": {},
   "source": [
    "Use the os.rename() method to rename a file in a folder. Pass both the old name and a new name to the os.rename(old_name, new_name) function to rename a file."
   ]
  },
  {
   "cell_type": "markdown",
   "id": "f5100120-c0be-4f4e-ac9f-497d438f108a",
   "metadata": {},
   "source": [
    "3. What is the difference between the delete functions in the send2trash and shutil modules?\n"
   ]
  },
  {
   "cell_type": "markdown",
   "id": "502fb749-e14f-40d7-82e1-a1ade9e3573e",
   "metadata": {},
   "source": [
    "The send2trash functions will move a file or folder to the recycle bin, while shutil functions will permanently delete files and folders."
   ]
  },
  {
   "cell_type": "markdown",
   "id": "39a152ef-6691-4194-ba79-96ee28f29f0f",
   "metadata": {},
   "source": [
    "4. ZipFile objects have a close() method just like File objects’ close() method. What ZipFile method is equivalent to File objects’ open() method?"
   ]
  },
  {
   "cell_type": "markdown",
   "id": "2913b9db-3412-4d99-91ea-406effd39356",
   "metadata": {},
   "source": [
    "The zipfile.ZipFile() function is equivalent to the open() function; the first argument is the filename, and the second argument is the mode to open the ZIP file in (read, write, or append)."
   ]
  },
  {
   "cell_type": "markdown",
   "id": "21d4fd89-2468-4f82-8365-baa43984684e",
   "metadata": {},
   "source": [
    "5. Create a programme that searches a folder tree for files with a certain file extension (such as .pdf or .jpg). Copy these files from whatever location they are in to a new folder."
   ]
  },
  {
   "cell_type": "code",
   "execution_count": 1,
   "id": "6e22501a-4d93-47ca-adb7-c6f6f95fc1f7",
   "metadata": {},
   "outputs": [],
   "source": [
    "import os, shutil\n",
    "def moveFileType(src_folder,dest_folder): \n",
    "  for root, dirs, files in os.walk(src_folder): \n",
    "               for file in files: \n",
    "                   if file.endswith('.jpg'):\n",
    "                    image_path=os.path.join(root,file)  # get the path location of each jpeg image.\n",
    "                    print('location: ',image_path)\n",
    "                    shutil.copy(image_path, dest_folder)"
   ]
  },
  {
   "cell_type": "code",
   "execution_count": null,
   "id": "b18d42a7",
   "metadata": {},
   "outputs": [],
   "source": []
  }
 ],
 "metadata": {
  "kernelspec": {
   "display_name": "base",
   "language": "python",
   "name": "python3"
  },
  "language_info": {
   "codemirror_mode": {
    "name": "ipython",
    "version": 3
   },
   "file_extension": ".py",
   "mimetype": "text/x-python",
   "name": "python",
   "nbconvert_exporter": "python",
   "pygments_lexer": "ipython3",
   "version": "3.8.5"
  },
  "vscode": {
   "interpreter": {
    "hash": "3e7ef4a4c04b9df685031c7817c068296d36ccdc8bf89d6a9900a4397f329a74"
   }
  }
 },
 "nbformat": 4,
 "nbformat_minor": 5
}
