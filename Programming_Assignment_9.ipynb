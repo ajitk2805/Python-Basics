{
 "cells": [
  {
   "attachments": {},
   "cell_type": "markdown",
   "metadata": {},
   "source": [
    "# Python Basics: Prgoramming Assignment 9"
   ]
  },
  {
   "attachments": {},
   "cell_type": "markdown",
   "metadata": {},
   "source": [
    "1. Write a Python program to check if the given number is a Disarium Number?\n"
   ]
  },
  {
   "cell_type": "code",
   "execution_count": 16,
   "metadata": {},
   "outputs": [
    {
     "name": "stdout",
     "output_type": "stream",
     "text": [
      "The number 175 is a Disarium number\n",
      "The number 579 is not a Disarium number\n"
     ]
    }
   ],
   "source": [
    "def is_disarium(num):\n",
    "    \"\"\"This function checks if a given number is a Disarium number. A number is said to be the Disarium number when the sum of its digit raised to the power of their \n",
    "    respective positions becomes equal to the number itself.\n",
    "    For example, 175 is a Disarium number as follows:\n",
    "        1^1+ 7^2 + 5^3 = 1+ 49 + 125 = 175\"\"\"\n",
    "    try:\n",
    "        # Calculate the length of the number\n",
    "        l = len(str(num))\n",
    "\n",
    "        # Make a copy of a original number\n",
    "        n = num\n",
    "        rem = sum = 0    \n",
    "\n",
    "        # Calculate the sum of digits powered with their respective position \n",
    "        while(num > 0):    \n",
    "            rem = num%10;    \n",
    "            sum = sum + int(rem**l);    \n",
    "            num = num//10;    \n",
    "            l = l - 1;    \n",
    "            \n",
    "        # Checks whether the sum is equal to the number itself    \n",
    "        if(sum == n):    \n",
    "            return True   \n",
    "        else:    \n",
    "            return False  \n",
    "    except Exception as e:\n",
    "        print(e)\n",
    "\n",
    "num = 175\n",
    "if is_disarium(num):\n",
    "    print(f\"The number {num} is a Disarium number\")\n",
    "else:\n",
    "    print(f\"The number {num} is not a Disarium number\")\n",
    "    \n",
    "num = 579\n",
    "if is_disarium(num):\n",
    "    print(f\"The number {num} is a Disarium number\")\n",
    "else:\n",
    "    print(f\"The number {num} is not a Disarium number\")"
   ]
  },
  {
   "attachments": {},
   "cell_type": "markdown",
   "metadata": {},
   "source": [
    "2. Write a Python program to print all disarium numbers between 1 to 100?\n"
   ]
  },
  {
   "cell_type": "code",
   "execution_count": 17,
   "metadata": {},
   "outputs": [
    {
     "name": "stdout",
     "output_type": "stream",
     "text": [
      "1\n",
      "2\n",
      "3\n",
      "4\n",
      "5\n",
      "6\n",
      "7\n",
      "8\n",
      "9\n",
      "89\n"
     ]
    }
   ],
   "source": [
    "for i in range(1,101):\n",
    "    if is_disarium(i):\n",
    "        print(i)"
   ]
  },
  {
   "attachments": {},
   "cell_type": "markdown",
   "metadata": {},
   "source": [
    "3. Write a Python program to check if the given number is Happy Number?\n"
   ]
  },
  {
   "cell_type": "code",
   "execution_count": 1,
   "metadata": {},
   "outputs": [
    {
     "name": "stdout",
     "output_type": "stream",
     "text": [
      "True\n",
      "True\n",
      "False\n"
     ]
    }
   ],
   "source": [
    "def is_Happy_num(n):\n",
    "  \"\"\"This function checks if the given numbber is a Happy Number. A number is said to be happy if it yields 1 when replaced \n",
    "  by the sum of squares of its digits repeatedly. If this process results in an endless cycle of numbers containing 4, \n",
    "  then the number will be an unhappy number.\"\"\"\n",
    "  past = set()\n",
    "  while n != 1:\n",
    "        n = sum(int(i)**2 for i in str(n))\n",
    "        if n in past:\n",
    "            return False\n",
    "        past.add(n)\n",
    "  return True\n",
    "print(is_Happy_num(7))\n",
    "print(is_Happy_num(932))\n",
    "print(is_Happy_num(6))\n"
   ]
  },
  {
   "attachments": {},
   "cell_type": "markdown",
   "metadata": {},
   "source": [
    "4. Write a Python program to print all happy numbers between 1 and 100?\n"
   ]
  },
  {
   "cell_type": "code",
   "execution_count": 2,
   "metadata": {},
   "outputs": [
    {
     "name": "stdout",
     "output_type": "stream",
     "text": [
      "1\n",
      "7\n",
      "10\n",
      "13\n",
      "19\n",
      "23\n",
      "28\n",
      "31\n",
      "32\n",
      "44\n",
      "49\n",
      "68\n",
      "70\n",
      "79\n",
      "82\n",
      "86\n",
      "91\n",
      "94\n",
      "97\n",
      "100\n"
     ]
    }
   ],
   "source": [
    "for i in range(1,101):\n",
    "    if is_Happy_num(i):\n",
    "        print(i)"
   ]
  },
  {
   "attachments": {},
   "cell_type": "markdown",
   "metadata": {},
   "source": [
    "5. Write a Python program to determine whether the given number is a Harshad Number?\n"
   ]
  },
  {
   "cell_type": "code",
   "execution_count": 12,
   "metadata": {},
   "outputs": [
    {
     "name": "stdout",
     "output_type": "stream",
     "text": [
      "True\n",
      "False\n",
      "True\n"
     ]
    }
   ],
   "source": [
    "def is_Harshad_num(num):\n",
    "    \"\"\"This function determines if the given number is a Harshad Number. If a number is divisible by the sum of its digits, \n",
    "    then it will be known as a Harshad Number.\"\"\"\n",
    "    try:\n",
    "        sum = 0\n",
    "        for i in str(num):\n",
    "            sum = sum + int(i)\n",
    "        if num%sum==0:\n",
    "            return True\n",
    "        else:\n",
    "            return False\n",
    "    except Exception as e:\n",
    "        print(e)\n",
    "\n",
    "print(is_Harshad_num(120))\n",
    "print(is_Harshad_num(548))\n",
    "print(is_Harshad_num(150))"
   ]
  },
  {
   "attachments": {},
   "cell_type": "markdown",
   "metadata": {},
   "source": [
    "6. Write a Python program to print all pronic numbers between 1 and 100?"
   ]
  },
  {
   "cell_type": "code",
   "execution_count": 13,
   "metadata": {},
   "outputs": [
    {
     "name": "stdout",
     "output_type": "stream",
     "text": [
      "2\n",
      "6\n",
      "12\n",
      "20\n",
      "30\n",
      "42\n",
      "56\n",
      "72\n",
      "90\n"
     ]
    }
   ],
   "source": [
    "def is_pronic_num(num):\n",
    "    \"\"\"This function determines if the given number is a pronic number. \n",
    "    The pronic number is a product of two consecutive integers of the form: n(n+1).\n",
    "        For example:\n",
    "            6 = 2(2+1)= n(n+1),\n",
    "            72 =8(8+1) = n(n+1)\"\"\"\n",
    "    try:\n",
    "        i = 0\n",
    "        flag = False\n",
    "        while i<=num:\n",
    "            if num == i*(i+1):\n",
    "                flag = True\n",
    "                break\n",
    "            i = i + 1\n",
    "        return flag\n",
    "    except Exception as e:\n",
    "        print(e)\n",
    "\n",
    "for i in range(1,101):\n",
    "    if is_pronic_num(i):\n",
    "        print(i)\n"
   ]
  },
  {
   "cell_type": "code",
   "execution_count": null,
   "metadata": {},
   "outputs": [],
   "source": []
  },
  {
   "cell_type": "code",
   "execution_count": null,
   "metadata": {},
   "outputs": [],
   "source": []
  }
 ],
 "metadata": {
  "kernelspec": {
   "display_name": "base",
   "language": "python",
   "name": "python3"
  },
  "language_info": {
   "codemirror_mode": {
    "name": "ipython",
    "version": 3
   },
   "file_extension": ".py",
   "mimetype": "text/x-python",
   "name": "python",
   "nbconvert_exporter": "python",
   "pygments_lexer": "ipython3",
   "version": "3.8.5"
  },
  "orig_nbformat": 4
 },
 "nbformat": 4,
 "nbformat_minor": 2
}
