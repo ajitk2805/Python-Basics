{
 "cells": [
  {
   "attachments": {},
   "cell_type": "markdown",
   "metadata": {},
   "source": [
    "# Python Basics: Prgoramming Assignment 4"
   ]
  },
  {
   "attachments": {},
   "cell_type": "markdown",
   "metadata": {
    "vscode": {
     "languageId": "plaintext"
    }
   },
   "source": [
    "1. Write a Python Program to Find the Factorial of a Number?\n"
   ]
  },
  {
   "cell_type": "code",
   "execution_count": 44,
   "metadata": {},
   "outputs": [
    {
     "name": "stdout",
     "output_type": "stream",
     "text": [
      "The factorial of 5 is 120\n"
     ]
    }
   ],
   "source": [
    "def factorial(num):\n",
    "    \"\"\"This function calculates the factorial of a given number\"\"\"\n",
    "    try:\n",
    "        if num==1:\n",
    "            return 1\n",
    "        else:\n",
    "            return (num*factorial(num-1))\n",
    "    except Exception as e:\n",
    "        print(e)\n",
    "\n",
    "num=5\n",
    "print(f\"The factorial of {num} is {factorial(num)}\")\n"
   ]
  },
  {
   "attachments": {},
   "cell_type": "markdown",
   "metadata": {},
   "source": [
    "2. Write a Python Program to Display the multiplication Table?\n"
   ]
  },
  {
   "cell_type": "code",
   "execution_count": 45,
   "metadata": {},
   "outputs": [
    {
     "name": "stdout",
     "output_type": "stream",
     "text": [
      "13 X 1 = 13\n",
      "13 X 2 = 26\n",
      "13 X 3 = 39\n",
      "13 X 4 = 52\n",
      "13 X 5 = 65\n",
      "13 X 6 = 78\n",
      "13 X 7 = 91\n",
      "13 X 8 = 104\n",
      "13 X 9 = 117\n",
      "13 X 10 = 130\n"
     ]
    }
   ],
   "source": [
    "def table(num):\n",
    "    \"\"\"This function displays the multiplication table of a given number\"\"\"\n",
    "    for i in range(1,11):\n",
    "        print(f\"{num} X {i} = {num*i}\") \n",
    "\n",
    "table(13)"
   ]
  },
  {
   "attachments": {},
   "cell_type": "markdown",
   "metadata": {},
   "source": [
    "3. Write a Python Program to Print the Fibonacci sequence?"
   ]
  },
  {
   "cell_type": "code",
   "execution_count": 48,
   "metadata": {},
   "outputs": [
    {
     "name": "stdout",
     "output_type": "stream",
     "text": [
      "Fibonacci sequence:\n",
      "0\n",
      "1\n",
      "1\n",
      "2\n",
      "3\n",
      "5\n",
      "8\n",
      "13\n",
      "21\n",
      "34\n"
     ]
    }
   ],
   "source": [
    "def fibonacci_seq(n_terms):\n",
    "    \"\"\"This function prints the fibonacci sequence up to the nth term\"\"\"\n",
    "    try:\n",
    "        # first two terms\n",
    "        n1, n2 = 0, 1\n",
    "        count = 0\n",
    "\n",
    "        # check if the number of terms is valid\n",
    "        if n_terms <= 0:\n",
    "            print(\"Please enter a positive integer\")\n",
    "        # if there is only one term, return n1\n",
    "        elif n_terms == 1:\n",
    "            print(\"Fibonacci sequence upto\",n_terms,\":\")\n",
    "            print(n1)\n",
    "        # generate fibonacci sequence\n",
    "        else:\n",
    "            print(\"Fibonacci sequence:\")\n",
    "        while count < n_terms:\n",
    "            print(n1)\n",
    "            nth = n1 + n2\n",
    "            # update values\n",
    "            n1 = n2\n",
    "            n2 = nth\n",
    "            count += 1\n",
    "    except Exception as e:\n",
    "        print(e)\n",
    "    \n",
    "fibonacci_seq(10)"
   ]
  },
  {
   "attachments": {},
   "cell_type": "markdown",
   "metadata": {},
   "source": [
    "4. Write a Python Program to Check Armstrong Number?"
   ]
  },
  {
   "cell_type": "code",
   "execution_count": 61,
   "metadata": {},
   "outputs": [
    {
     "name": "stdout",
     "output_type": "stream",
     "text": [
      "False\n",
      "True\n"
     ]
    }
   ],
   "source": [
    "def is_armstrong(num):\n",
    "    \"\"\"This function checks if a give number is an Armstrong number\n",
    "    A positive integer is called an Armstrong number of order n if\n",
    "    abcd... = an + bn + cn + dn + ...\n",
    "    \n",
    "    In case of an Armstrong number of 3 digits, the sum of cubes of each digit is equal to the number itself. For example:\n",
    "    153 = 1*1*1 + 5*5*5 + 3*3*3  // 153 is an Armstrong number.   \n",
    "    \"\"\"\n",
    "    try:\n",
    "        order = len(str(num))\n",
    "        sum = 0\n",
    "        # find the sum of the cube of each digit\n",
    "        temp = num\n",
    "        while temp > 0:\n",
    "            digit = temp % 10\n",
    "            sum += digit ** order\n",
    "            temp //= 10\n",
    "\n",
    "        # display the result\n",
    "        if num == sum:\n",
    "           return True\n",
    "        else:\n",
    "          return False\n",
    "    except Exception as e:\n",
    "       print(e)\n",
    "\n",
    "print(is_armstrong(178))\n",
    "print(is_armstrong(153))"
   ]
  },
  {
   "attachments": {},
   "cell_type": "markdown",
   "metadata": {},
   "source": [
    "5. Write a Python Program to Find Armstrong Number in an Interval?\n"
   ]
  },
  {
   "cell_type": "code",
   "execution_count": 66,
   "metadata": {},
   "outputs": [
    {
     "name": "stdout",
     "output_type": "stream",
     "text": [
      "[153, 370, 371, 407]\n"
     ]
    }
   ],
   "source": [
    "def armstrong_num_in_interval(lower,upper):\n",
    "    \"\"\"This function finds an Armstrong number in a given interval. it uses previously defined function is_armstrong(num)\"\"\"\n",
    "    try:\n",
    "        armtrong_num_list = [num for num in range(lower, upper + 1) if is_armstrong(num)]\n",
    "        print(armtrong_num_list)\n",
    "    except Exception as e:\n",
    "        print(e)\n",
    "    \n",
    "armstrong_num_in_interval(100,1000)"
   ]
  },
  {
   "attachments": {},
   "cell_type": "markdown",
   "metadata": {},
   "source": [
    "6. Write a Python Program to Find the Sum of Natural Numbers?"
   ]
  },
  {
   "cell_type": "code",
   "execution_count": 68,
   "metadata": {},
   "outputs": [
    {
     "name": "stdout",
     "output_type": "stream",
     "text": [
      "The sum is 120\n"
     ]
    }
   ],
   "source": [
    "def sum_of_natural_num(num):\n",
    "    \"\"\"This function finds the sum of natural number upto num. Sum of natural numbers is given by formula n*(n+1)/2\"\"\"\n",
    "    if num < 0:\n",
    "        print(\"Enter a positive number\")\n",
    "    else:\n",
    "        sum = 0\n",
    "        # use while loop to iterate until zero\n",
    "        while(num > 0):\n",
    "            sum += num\n",
    "            num -= 1\n",
    "        print(\"The sum is\", sum)\n",
    "\n",
    "sum_of_natural_num(15)"
   ]
  },
  {
   "cell_type": "code",
   "execution_count": null,
   "metadata": {},
   "outputs": [],
   "source": []
  },
  {
   "cell_type": "code",
   "execution_count": null,
   "metadata": {},
   "outputs": [],
   "source": []
  },
  {
   "cell_type": "code",
   "execution_count": null,
   "metadata": {},
   "outputs": [],
   "source": []
  }
 ],
 "metadata": {
  "kernelspec": {
   "display_name": "base",
   "language": "python",
   "name": "python3"
  },
  "language_info": {
   "codemirror_mode": {
    "name": "ipython",
    "version": 3
   },
   "file_extension": ".py",
   "mimetype": "text/x-python",
   "name": "python",
   "nbconvert_exporter": "python",
   "pygments_lexer": "ipython3",
   "version": "3.8.5"
  },
  "orig_nbformat": 4
 },
 "nbformat": 4,
 "nbformat_minor": 2
}
