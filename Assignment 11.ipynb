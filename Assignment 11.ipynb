{
 "cells": [
  {
   "cell_type": "markdown",
   "id": "9042e23a-50bd-4084-83d4-260cc5200500",
   "metadata": {},
   "source": [
    "# Python_Basics_Assignment 11"
   ]
  },
  {
   "cell_type": "markdown",
   "id": "4638d8c7-8a16-452e-b34f-42b154d7fa83",
   "metadata": {},
   "source": [
    "1. Create an assert statement that throws an AssertionError if the variable spam is a negative integer.\n"
   ]
  },
  {
   "cell_type": "code",
   "execution_count": 15,
   "id": "5507ae5a-70e8-48d0-b961-cfefe8938132",
   "metadata": {},
   "outputs": [
    {
     "ename": "AssertionError",
     "evalue": "The variable spam is a negative integer.",
     "output_type": "error",
     "traceback": [
      "\u001b[0;31m---------------------------------------------------------------------------\u001b[0m",
      "\u001b[0;31mAssertionError\u001b[0m                            Traceback (most recent call last)",
      "Cell \u001b[0;32mIn [15], line 2\u001b[0m\n\u001b[1;32m      1\u001b[0m spam\u001b[38;5;241m=\u001b[39m\u001b[38;5;241m-\u001b[39m\u001b[38;5;241m5\u001b[39m\n\u001b[0;32m----> 2\u001b[0m \u001b[38;5;28;01massert\u001b[39;00m spam \u001b[38;5;241m>\u001b[39m\u001b[38;5;241m=\u001b[39m \u001b[38;5;241m0\u001b[39m, \u001b[38;5;124m'\u001b[39m\u001b[38;5;124mThe variable spam is a negative integer.\u001b[39m\u001b[38;5;124m'\u001b[39m\n",
      "\u001b[0;31mAssertionError\u001b[0m: The variable spam is a negative integer."
     ]
    }
   ],
   "source": [
    "spam=-5\n",
    "assert spam >= 0, 'The variable spam is a negative integer.'"
   ]
  },
  {
   "cell_type": "markdown",
   "id": "a41ace14-39b2-4fc5-85bf-33d72a9ec6b6",
   "metadata": {},
   "source": [
    "2. Write an assert statement that triggers an AssertionError if the variables eggs and bacon contain strings that are the same as each other, even if their cases are different (that is, 'hello' and 'hello' are considered the same, and 'goodbye' and 'GOODbye' are also considered the same)."
   ]
  },
  {
   "cell_type": "code",
   "execution_count": 16,
   "id": "d4678666-68ac-415c-a4ff-d7c22ac3b196",
   "metadata": {},
   "outputs": [
    {
     "ename": "AssertionError",
     "evalue": "The variables eggs and bacon contain strings that are the same as each other.",
     "output_type": "error",
     "traceback": [
      "\u001b[0;31m---------------------------------------------------------------------------\u001b[0m",
      "\u001b[0;31mAssertionError\u001b[0m                            Traceback (most recent call last)",
      "Cell \u001b[0;32mIn [16], line 4\u001b[0m\n\u001b[1;32m      1\u001b[0m eggs\u001b[38;5;241m=\u001b[39m\u001b[38;5;124m'\u001b[39m\u001b[38;5;124mgoodbye\u001b[39m\u001b[38;5;124m'\u001b[39m\n\u001b[1;32m      2\u001b[0m bacon\u001b[38;5;241m=\u001b[39m\u001b[38;5;124m'\u001b[39m\u001b[38;5;124mGOODbye\u001b[39m\u001b[38;5;124m'\u001b[39m\n\u001b[0;32m----> 4\u001b[0m \u001b[38;5;28;01massert\u001b[39;00m eggs\u001b[38;5;241m.\u001b[39mlower() \u001b[38;5;241m!=\u001b[39m bacon\u001b[38;5;241m.\u001b[39mlower(),\u001b[38;5;124m'\u001b[39m\u001b[38;5;124mThe variables eggs and bacon contain strings that are the same as each other.\u001b[39m\u001b[38;5;124m'\u001b[39m\n",
      "\u001b[0;31mAssertionError\u001b[0m: The variables eggs and bacon contain strings that are the same as each other."
     ]
    }
   ],
   "source": [
    "eggs='goodbye'\n",
    "bacon='GOODbye'\n",
    "\n",
    "assert eggs.lower() != bacon.lower(),'The variables eggs and bacon contain strings that are the same as each other.'"
   ]
  },
  {
   "cell_type": "markdown",
   "id": "dff609a1-01f8-4672-a54d-e40dd984a479",
   "metadata": {},
   "source": [
    "3. Create an assert statement that throws an AssertionError every time."
   ]
  },
  {
   "cell_type": "code",
   "execution_count": 23,
   "id": "e65a9b82-7905-4af1-9990-e796a29a1284",
   "metadata": {},
   "outputs": [
    {
     "ename": "AssertionError",
     "evalue": "This AssertionError always triggers",
     "output_type": "error",
     "traceback": [
      "\u001b[0;31m---------------------------------------------------------------------------\u001b[0m",
      "\u001b[0;31mAssertionError\u001b[0m                            Traceback (most recent call last)",
      "Cell \u001b[0;32mIn [23], line 1\u001b[0m\n\u001b[0;32m----> 1\u001b[0m \u001b[38;5;28;01massert\u001b[39;00m \u001b[38;5;28;01mFalse\u001b[39;00m,\u001b[38;5;124m'\u001b[39m\u001b[38;5;124mThis AssertionError always triggers\u001b[39m\u001b[38;5;124m'\u001b[39m\n",
      "\u001b[0;31mAssertionError\u001b[0m: This AssertionError always triggers"
     ]
    }
   ],
   "source": [
    "assert False,'This AssertionError always triggers'"
   ]
  },
  {
   "cell_type": "markdown",
   "id": "1f225666-da95-4454-8bfc-53ef7fc91efb",
   "metadata": {},
   "source": [
    "4. What are the two lines that must be present in your software in order to call logging.debug()?\n"
   ]
  },
  {
   "cell_type": "code",
   "execution_count": 24,
   "id": "7c8d273a-104c-455f-8577-ed41c52dfae7",
   "metadata": {},
   "outputs": [],
   "source": [
    "#To be able to call logging.debug(), you must have these two lines at the start of your program:\n",
    "\n",
    "import logging\n",
    "logging.basicConfig(level=logging.DEBUG, format=' %(asctime)s -%(levelname)s - %(message)s')\n"
   ]
  },
  {
   "cell_type": "markdown",
   "id": "adaaa718-c988-4041-a6ee-67659dddef59",
   "metadata": {},
   "source": [
    "5. What are the two lines that your program must have in order to have logging.debug() send a logging message to a file named programLog.txt?"
   ]
  },
  {
   "cell_type": "code",
   "execution_count": 25,
   "id": "5842b2f4-c3ac-4056-9fa6-acaa047ebe7b",
   "metadata": {},
   "outputs": [],
   "source": [
    "import logging\n",
    "\n",
    "logging.basicConfig(filename='programLog.txt', level=logging.DEBUG, format=' %(asctime)s - %(levelname)s - %(message)s')"
   ]
  },
  {
   "cell_type": "markdown",
   "id": "61a4849e-c372-411a-a889-099e2776a44f",
   "metadata": {},
   "source": [
    "6. What are the five levels of logging?\n"
   ]
  },
  {
   "cell_type": "markdown",
   "id": "5859e5ee-8a6c-440c-985b-e2691cb389af",
   "metadata": {},
   "source": [
    "1. DEBUG\n",
    "2. INFO \n",
    "3. WARNING \n",
    "4. ERROR\n",
    "5. CRITICAL"
   ]
  },
  {
   "cell_type": "markdown",
   "id": "b0bfbbd9-68d4-4f24-b7ea-104b96073e95",
   "metadata": {},
   "source": [
    "7. What line of code would you add to your software to disable all logging messages?"
   ]
  },
  {
   "cell_type": "code",
   "execution_count": 26,
   "id": "6a8d7241-0ee1-4d31-9b8b-ee8c2a74a00f",
   "metadata": {},
   "outputs": [],
   "source": [
    "logging.disable(logging.CRITICAL)"
   ]
  },
  {
   "cell_type": "markdown",
   "id": "e03e15be-0fb1-4766-ab4d-3e5d89edc4a4",
   "metadata": {},
   "source": [
    "8. Why is using logging messages better than using print() to display the same message?"
   ]
  },
  {
   "cell_type": "markdown",
   "id": "a07e8ee0-d8bd-48c2-8331-88e90e142501",
   "metadata": {},
   "source": [
    "- One of the biggest advantages of proper logging is that we can categorize messages and turn them on or off as per our need.\n",
    "- Also, logs are configurable. We can easily filter them, send them to files, format them, add timestamps, and any other things we might need.\n",
    "- We can disable logging messages without removing the logging function calls."
   ]
  },
  {
   "cell_type": "markdown",
   "id": "5cf14747-dc16-4052-bf35-34f4207d768d",
   "metadata": {},
   "source": [
    "9. What are the differences between the Step Over, Step In, and Step Out buttons in the debugger?\n"
   ]
  },
  {
   "cell_type": "markdown",
   "id": "80b55202-c1ff-4563-9d54-01c4e98a6ad7",
   "metadata": {},
   "source": [
    "**Step in**: means that if there is a function call, it goes inside the function and you can see how the function is executing line by line till it returns and you go back to the next line right after the function call.\n",
    "\n",
    "**Step out**: means that if you have Stepped in a function and now you want to skip seeing how the rest of the function is going to execute, you Step out and the function returns. Then, you go back to the next line, that is the line right after the function call.\n",
    "\n",
    "**Step over**: means that if there is a function call, it just executes it like a black box and returns the result, but you cannot see how the function was executed."
   ]
  },
  {
   "cell_type": "markdown",
   "id": "35eb3537-2bc3-4fbe-95f0-ce033414b7f2",
   "metadata": {},
   "source": [
    "10. After you click Continue, when will the debugger stop ?"
   ]
  },
  {
   "cell_type": "markdown",
   "id": "d5b9ae21-bd2c-4526-905a-a6e6971576d8",
   "metadata": {},
   "source": [
    "After clicking Continue the execution will only stop when a breakpoint is encountered or at the end of the program."
   ]
  },
  {
   "cell_type": "markdown",
   "id": "948ae86c-5a67-4896-9fd1-4eef9b932e5c",
   "metadata": {},
   "source": [
    "11. What is the concept of a breakpoint?\n"
   ]
  },
  {
   "cell_type": "markdown",
   "id": "07576e6c-3fa1-4351-a245-30a8d68c6a95",
   "metadata": {},
   "source": [
    "A breakpoint is a setting on a line of code that causes the debugger to pause when the program execution reaches the line."
   ]
  },
  {
   "cell_type": "code",
   "execution_count": null,
   "id": "ff294cc5-e5c8-4108-8084-1db4f80e0fbb",
   "metadata": {},
   "outputs": [],
   "source": []
  }
 ],
 "metadata": {
  "kernelspec": {
   "display_name": "Python 3 (ipykernel)",
   "language": "python",
   "name": "python3"
  },
  "language_info": {
   "codemirror_mode": {
    "name": "ipython",
    "version": 3
   },
   "file_extension": ".py",
   "mimetype": "text/x-python",
   "name": "python",
   "nbconvert_exporter": "python",
   "pygments_lexer": "ipython3",
   "version": "3.10.6"
  }
 },
 "nbformat": 4,
 "nbformat_minor": 5
}
