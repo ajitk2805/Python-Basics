{
 "cells": [
  {
   "attachments": {},
   "cell_type": "markdown",
   "metadata": {},
   "source": [
    "# Python Basics: Prgoramming Assignment 13"
   ]
  },
  {
   "attachments": {},
   "cell_type": "markdown",
   "metadata": {},
   "source": [
    "Question 1:\n",
    "\n",
    "\n",
    "\n",
    "\n",
    "Write a program that calculates and prints the value according to the given formula:\n",
    "\n",
    "\n",
    "\n",
    "\n",
    "Q = Square root of [(2 * C * D)/H]\n",
    "\n",
    "\n",
    "\n",
    "\n",
    "Following are the fixed values of C and H:\n",
    "\n",
    "\n",
    "\n",
    "\n",
    "C is 50. H is 30.\n",
    "\n",
    "\n",
    "\n",
    "\n",
    "D is the variable whose values should be input to your program in a comma-separated sequence.\n",
    "\n",
    "\n",
    "\n",
    "\n",
    "Example\n",
    "\n",
    "\n",
    "\n",
    "\n",
    "Let us assume the following comma separated input sequence is given to the program:\n",
    "\n",
    "\n",
    "\n",
    "\n",
    "100,150,180\n",
    "\n",
    "\n",
    "\n",
    "\n",
    "The output of the program should be:\n",
    "\n",
    "\n",
    "\n",
    "18,22,24\n"
   ]
  },
  {
   "cell_type": "code",
   "execution_count": 2,
   "metadata": {},
   "outputs": [
    {
     "name": "stdout",
     "output_type": "stream",
     "text": [
      "18\n",
      "22\n",
      "24\n"
     ]
    }
   ],
   "source": [
    "def q1_formula(D):\n",
    "    C = 50\n",
    "    H =30\n",
    "    Q = ((2*C*D)/H)**0.5\n",
    "    return int(Q)\n",
    "\n",
    "print(q1_formula(100)) \n",
    "print(q1_formula(150))\n",
    "print(q1_formula(180))"
   ]
  },
  {
   "attachments": {},
   "cell_type": "markdown",
   "metadata": {},
   "source": [
    "Question 2:\n",
    "Write a program which takes 2 digits, X,Y as input and generates a 2-dimensional array. The element value in the i-th row and j-th column of the array should be i*j.\n",
    "\n",
    "\n",
    "\n",
    "\n",
    "Note: i=0,1.., X-1; j=0,1,¡Y-1.\n",
    "\n",
    "\n",
    "\n",
    "\n",
    "Example\n",
    "\n",
    "\n",
    "\n",
    "\n",
    "Suppose the following inputs are given to the program:\n",
    "\n",
    "\n",
    "\n",
    "\n",
    "3,5\n",
    "\n",
    "\n",
    "\n",
    "\n",
    "Then, the output of the program should be:\n",
    "\n",
    "\n",
    "\n",
    "\n",
    "[[0, 0, 0, 0, 0], [0, 1, 2, 3, 4], [0, 2, 4, 6, 8]] \n",
    "\n",
    "\n",
    "\n"
   ]
  },
  {
   "cell_type": "code",
   "execution_count": 12,
   "metadata": {},
   "outputs": [
    {
     "data": {
      "text/plain": [
       "[[0, 0, 0, 0, 0], [0, 1, 2, 3, 4], [0, 2, 4, 6, 8]]"
      ]
     },
     "execution_count": 12,
     "metadata": {},
     "output_type": "execute_result"
    }
   ],
   "source": [
    "def q2_function(X,Y):\n",
    "    array = []\n",
    "   # Iterate over rows (i)\n",
    "    for i in range(X):\n",
    "        row = []\n",
    "        # Iterate over columns (j)\n",
    "        for j in range(Y):\n",
    "            # Calculate the element value and append it to the row\n",
    "            row.append(i * j)\n",
    "        # Append the row to the array\n",
    "        array.append(row)\n",
    "    return array\n",
    "\n",
    "q2_function(3,5)"
   ]
  },
  {
   "attachments": {},
   "cell_type": "markdown",
   "metadata": {},
   "source": [
    "Question 3:\n",
    "Write a program that accepts a comma separated sequence of words as input and prints the words in a comma-separated sequence after sorting them alphabetically.\n",
    "\n",
    "\n",
    "\n",
    "\n",
    "Suppose the following input is supplied to the program:\n",
    "\n",
    "\n",
    "\n",
    "\n",
    "without,hello,bag,world\n",
    "\n",
    "\n",
    "\n",
    "\n",
    "Then, the output should be:\n",
    "\n",
    "\n",
    "\n",
    "bag,hello,without,world\n"
   ]
  },
  {
   "cell_type": "code",
   "execution_count": 25,
   "metadata": {},
   "outputs": [
    {
     "data": {
      "text/plain": [
       "'bag,hello,without,world'"
      ]
     },
     "execution_count": 25,
     "metadata": {},
     "output_type": "execute_result"
    }
   ],
   "source": [
    "def sort_words(inp_str:str):\n",
    "    word_list = (inp_str.split(','))\n",
    "    word_list.sort()\n",
    "    return ','.join(word_list)\n",
    "\n",
    "sort_words('without,hello,bag,world')"
   ]
  },
  {
   "attachments": {},
   "cell_type": "markdown",
   "metadata": {},
   "source": [
    "Question 4:\n",
    "Write a program that accepts a sequence of whitespace separated words as input and prints the words after removing all duplicate words and sorting them alphanumerically.\n",
    "\n",
    "\n",
    "\n",
    "\n",
    "Suppose the following input is supplied to the program:\n",
    "\n",
    "\n",
    "\n",
    "\n",
    "hello world and practice makes perfect and hello world again\n",
    "\n",
    "\n",
    "\n",
    "\n",
    "Then, the output should be:\n",
    "\n",
    "\n",
    "\n",
    "again and hello makes perfect practice world\n"
   ]
  },
  {
   "cell_type": "code",
   "execution_count": 46,
   "metadata": {},
   "outputs": [
    {
     "data": {
      "text/plain": [
       "'again and hello makes perfect practice world'"
      ]
     },
     "execution_count": 46,
     "metadata": {},
     "output_type": "execute_result"
    }
   ],
   "source": [
    "def sort_words(inp_str:str):\n",
    "    word_list = (inp_str.split())\n",
    "    result = sorted(set(word_list))\n",
    "    return ' '.join(result)\n",
    "\n",
    "sort_words('hello world and practice makes perfect and hello world again')"
   ]
  },
  {
   "attachments": {},
   "cell_type": "markdown",
   "metadata": {},
   "source": [
    "Question 5:\n",
    "Write a program that accepts a sentence and calculate the number of letters and digits.\n",
    "\n",
    "\n",
    "\n",
    "\n",
    "Suppose the following input is supplied to the program:\n",
    "\n",
    "\n",
    "\n",
    "\n",
    "hello world! 123\n",
    "\n",
    "\n",
    "\n",
    "\n",
    "Then, the output should be:\n",
    "\n",
    "\n",
    "\n",
    "\n",
    "LETTERS 10\n",
    "\n",
    "\n",
    "\n",
    "DIGITS 3\n"
   ]
  },
  {
   "cell_type": "code",
   "execution_count": 65,
   "metadata": {},
   "outputs": [
    {
     "data": {
      "text/plain": [
       "'LETTERS:10, DIGITS:3'"
      ]
     },
     "execution_count": 65,
     "metadata": {},
     "output_type": "execute_result"
    }
   ],
   "source": [
    "def count_letters_and_digits(inp_str:str):\n",
    "    import string\n",
    "    letters = 0\n",
    "    digits = 0\n",
    "    for i in inp_str:\n",
    "        if i in string.ascii_letters:\n",
    "            letters += 1\n",
    "        elif i in string.digits:\n",
    "            digits += 1\n",
    "    return f\"\"\"LETTERS:{letters}, DIGITS:{digits}\"\"\"\n",
    "\n",
    "count_letters_and_digits('hello world! 123')"
   ]
  },
  {
   "attachments": {},
   "cell_type": "markdown",
   "metadata": {},
   "source": [
    "Question 6:\n",
    "\n",
    "A website requires the users to input username and password to register. Write a program to check the validity of password input by users.\n",
    "\n",
    "\n",
    "\n",
    "\n",
    "Following are the criteria for checking the password:\n",
    "\n",
    "\n",
    "\n",
    "\n",
    "1. At least 1 letter between [a-z]\n",
    "\n",
    "\n",
    "\n",
    "\n",
    "2. At least 1 number between [0-9]\n",
    "\n",
    "\n",
    "\n",
    "\n",
    "1. At least 1 letter between [A-Z]\n",
    "\n",
    "\n",
    "\n",
    "\n",
    "3. At least 1 character from [$#@]\n",
    "\n",
    "\n",
    "\n",
    "\n",
    "4. Minimum length of transaction password: 6\n",
    "\n",
    "\n",
    "\n",
    "\n",
    "5. Maximum length of transaction password: 12\n",
    "\n",
    "\n",
    "\n"
   ]
  },
  {
   "cell_type": "code",
   "execution_count": 63,
   "metadata": {},
   "outputs": [
    {
     "name": "stdout",
     "output_type": "stream",
     "text": [
      "Password is valid\n",
      "Password is invalid\n",
      "Password is invalid\n",
      "Password is valid\n"
     ]
    }
   ],
   "source": [
    "def password_check(password):\n",
    "    \"\"\"This function checks the validity of input password.\"\"\"\n",
    "    import string\n",
    "    lower = False\n",
    "    number = False\n",
    "    upper = False\n",
    "    special = False\n",
    "    if len(password) >=6 and len(password) <= 12:\n",
    "        for char in password:\n",
    "            if char in string.ascii_lowercase:\n",
    "                lower = True\n",
    "            elif char in string.ascii_uppercase:\n",
    "                upper = True\n",
    "            elif char in string.digits:\n",
    "                number = True\n",
    "            elif char in '$#@':\n",
    "                special = True\n",
    "        if all([lower,number,upper,special]):\n",
    "            return \"Password is valid\"\n",
    "        else:\n",
    "            return \"Password is invalid\"\n",
    "    else:\n",
    "        return \"Password is invalid\"\n",
    "\n",
    "print(password_check('Pass@1234'))\n",
    "print(password_check('pass@1234kljkljdf'))\n",
    "print(password_check('1234'))\n",
    "print(password_check('1234$Pass'))"
   ]
  },
  {
   "cell_type": "code",
   "execution_count": null,
   "metadata": {},
   "outputs": [],
   "source": []
  }
 ],
 "metadata": {
  "kernelspec": {
   "display_name": "base",
   "language": "python",
   "name": "python3"
  },
  "language_info": {
   "codemirror_mode": {
    "name": "ipython",
    "version": 3
   },
   "file_extension": ".py",
   "mimetype": "text/x-python",
   "name": "python",
   "nbconvert_exporter": "python",
   "pygments_lexer": "ipython3",
   "version": "3.8.5"
  },
  "orig_nbformat": 4
 },
 "nbformat": 4,
 "nbformat_minor": 2
}
