{
 "cells": [
  {
   "cell_type": "markdown",
   "metadata": {},
   "source": [
    "# Python_Basics_Assignment 3"
   ]
  },
  {
   "cell_type": "markdown",
   "metadata": {},
   "source": [
    "#### 1. Why are functions advantageous to have in your programs?"
   ]
  },
  {
   "cell_type": "markdown",
   "metadata": {},
   "source": [
    "A function is a block of reusable code that is used to perform a specific action. Some of the advantages functions are:\n",
    "- The main advantage of python functions is its reusability.\n",
    "- Functions help reduce duplication of code.\n",
    "- Functions can be called anywhere and any number of times as required in a code.\n",
    "- Helps improve code readability"
   ]
  },
  {
   "cell_type": "markdown",
   "metadata": {},
   "source": [
    "#### 2. When does the code in a function run: when it's specified or when it's called?"
   ]
  },
  {
   "cell_type": "markdown",
   "metadata": {},
   "source": [
    "The code in a funtion runs when the function is called."
   ]
  },
  {
   "cell_type": "markdown",
   "metadata": {},
   "source": [
    "#### 3. What statement creates a function?"
   ]
  },
  {
   "cell_type": "markdown",
   "metadata": {},
   "source": [
    "A function is created with the def keyword. The def keyword is followed by the function name with round brackets and a colon. The statements in the block of the function must be indented. The indented statements form a body of the function.\n",
    "\n",
    "`\n",
    "def function():\n",
    "    pass\n",
    "`"
   ]
  },
  {
   "cell_type": "markdown",
   "metadata": {},
   "source": [
    "#### 4. What is the difference between a function and a function call?\n"
   ]
  },
  {
   "cell_type": "markdown",
   "metadata": {},
   "source": [
    "A function is a block of code that does a particular operation and returns a result. It usually accepts inputs as parameters and returns a result. The parameters are not mandatory. A function call is the code used to pass control to a function."
   ]
  },
  {
   "cell_type": "markdown",
   "metadata": {},
   "source": [
    "#### 5. How many global scopes are there in a Python program? How many local scopes?"
   ]
  },
  {
   "cell_type": "markdown",
   "metadata": {},
   "source": [
    "The part of the program where variables, functions, and objects are easily accessible is commonly referred to as scope in Python.\n",
    "\n",
    "In Python, there are four types of scopes, which are as follows:  \n",
    "\n",
    "- Global Scope   \n",
    "- Local Scope \n",
    "- Enclosing Scope  \n",
    "- Built-in Scope\n",
    "\n",
    "There’s only one global Python scope per program execution.This scope remains in existence until the program terminates and all its names are forgotten.\n",
    "\n",
    "The local scope or function scope is a Python scope created at function calls. Every time a function is called, a new local scope is created. By default, parameters and variables are assigned inside a function exist only within the function or local scope associated with the function call. When the function returns, the local scope is destroyed and the names are forgotten."
   ]
  },
  {
   "cell_type": "markdown",
   "metadata": {},
   "source": [
    "#### 6. What happens to variables in a local scope when the function call returns?"
   ]
  },
  {
   "cell_type": "markdown",
   "metadata": {},
   "source": [
    "When the function returns, the local scope is destroyed and the variables are forgotten."
   ]
  },
  {
   "cell_type": "markdown",
   "metadata": {},
   "source": [
    "#### 7. What is the concept of a return value? Is it possible to have a return value in an expression?"
   ]
  },
  {
   "cell_type": "markdown",
   "metadata": {},
   "source": [
    "\n",
    "The Python return statement is a special statement that can be used inside a function or method to send the function’s result back to the caller. A return statement consists of the return keyword followed by an optional return value.\n",
    "\n",
    "The return value of a Python function can be any Python object. Everything in Python is an object. So, a function can return numeric values (int, float, and complex values), collections and sequences of objects (list, tuple, dictionary, or set objects), user-defined objects, classes, functions, and even modules or packages.\n",
    "\n",
    "If a function is defined with an explicit return statement that has an explicit return value, then we can use that return value in any expression."
   ]
  },
  {
   "cell_type": "markdown",
   "metadata": {},
   "source": [
    "#### 8. If a function does not have a return statement, what is the return value of a call to that function?"
   ]
  },
  {
   "cell_type": "markdown",
   "metadata": {},
   "source": [
    "If a function does not have a return statement the return value will be None."
   ]
  },
  {
   "cell_type": "markdown",
   "metadata": {},
   "source": [
    "#### 9. How do you make a function variable refer to the global variable?"
   ]
  },
  {
   "cell_type": "markdown",
   "metadata": {},
   "source": [
    "A Global variable can be accessed inside as well as outside the functions. However it cannot be modified inside a function.\n",
    "\n",
    "`Global` keyword is used to modify the global variable outside its current scope and meaning. It is used to make changes in the global variable in a local context (i.e inside a function). The keyword ‘Global’ is also used to create or declare a global variable inside a function.  \n",
    "\n",
    "Below example shows usage of global keyword."
   ]
  },
  {
   "cell_type": "code",
   "execution_count": 1,
   "metadata": {},
   "outputs": [],
   "source": [
    "# Here we create a variable inside a function with same name as the global variable \n",
    "x = \"awesome\"\n",
    "\n",
    "def myfunc():\n",
    "  x = \"fantastic\"\n",
    "  print(\"Python is \" + x)\n",
    "\n",
    "myfunc()\n",
    "\n",
    "print(\"Python is \" + x)"
   ]
  },
  {
   "cell_type": "code",
   "execution_count": 2,
   "metadata": {},
   "outputs": [
    {
     "name": "stdout",
     "output_type": "stream",
     "text": [
      "Printing var just after declaring (before function): Global variable\n",
      "Printing var inside a function: modified global variable inside a function\n",
      "Printing var outside a function: modified global variable inside a function\n"
     ]
    }
   ],
   "source": [
    "# Here we modify the global variable inside the function\n",
    "\n",
    "# Declaring a global variable\n",
    "var = 'Global variable'\n",
    "print(f'Printing var just after declaring (before function): {var}')\n",
    "\n",
    "# Defining a function\n",
    "def test():\n",
    "    global var # creating a global scope variable inside a function\n",
    "    var = 'modified global variable inside a function'\n",
    "    print(f'Printing var inside a function: {var}')\n",
    "\n",
    "# Calling a function    \n",
    "test()\n",
    "print(f'Printing var outside a function: {var}')"
   ]
  },
  {
   "cell_type": "markdown",
   "metadata": {},
   "source": [
    "#### 10. What is the data type of None?"
   ]
  },
  {
   "cell_type": "code",
   "execution_count": 3,
   "metadata": {},
   "outputs": [
    {
     "data": {
      "text/plain": [
       "NoneType"
      ]
     },
     "execution_count": 3,
     "metadata": {},
     "output_type": "execute_result"
    }
   ],
   "source": [
    "type(None)"
   ]
  },
  {
   "cell_type": "markdown",
   "metadata": {},
   "source": [
    "#### 11. What does the sentence import areallyourpetsnamederic do?"
   ]
  },
  {
   "cell_type": "markdown",
   "metadata": {},
   "source": [
    "It should import the library/module named areallyourpetsnamederic. however there is no such existing library so it will throw an \n",
    "error\n",
    "\n",
    "`ModuleNotFoundError: No module named 'areallyourpetsnamederic'`"
   ]
  },
  {
   "cell_type": "markdown",
   "metadata": {},
   "source": [
    "#### 12. If you had a bacon() feature in a spam module, what would you call it after importing spam?"
   ]
  },
  {
   "cell_type": "markdown",
   "metadata": {},
   "source": [
    "spam.bacon()"
   ]
  },
  {
   "cell_type": "markdown",
   "metadata": {},
   "source": [
    "#### 13. What can you do to save a programme from crashing if it encounters an error?"
   ]
  },
  {
   "cell_type": "markdown",
   "metadata": {},
   "source": [
    "In Python, we use the try and except statements to handle exceptions. Whenever the code breaks down, an exception is thrown without crashing the program."
   ]
  },
  {
   "cell_type": "code",
   "execution_count": 4,
   "metadata": {},
   "outputs": [
    {
     "name": "stdout",
     "output_type": "stream",
     "text": [
      "Error occurred : can only concatenate str (not \"int\") to str\n"
     ]
    }
   ],
   "source": [
    "def addNumbers(a, b):\n",
    "    try:\n",
    "        return a + b\n",
    "    except Exception as e:\n",
    "        return 'Error occurred : ' + str(e)\n",
    "  \n",
    "print(addNumbers('m', 10))"
   ]
  },
  {
   "cell_type": "markdown",
   "metadata": {},
   "source": [
    "#### 14. What is the purpose of the try clause? What is the purpose of the except clause?"
   ]
  },
  {
   "cell_type": "markdown",
   "metadata": {},
   "source": [
    "When an error occurs, or exception as we call it, Python will normally stop and generate an error message. These exceptions can be handled using the try statement. The `try` block lets us test a block of code for errors.\n",
    "\n",
    "If the try block raises an error, the except block will be executed. The `except` block let's us handle the error.\n"
   ]
  }
 ],
 "metadata": {
  "kernelspec": {
   "display_name": "Python 3",
   "language": "python",
   "name": "python3"
  },
  "language_info": {
   "codemirror_mode": {
    "name": "ipython",
    "version": 3
   },
   "file_extension": ".py",
   "mimetype": "text/x-python",
   "name": "python",
   "nbconvert_exporter": "python",
   "pygments_lexer": "ipython3",
   "version": "3.8.5"
  }
 },
 "nbformat": 4,
 "nbformat_minor": 4
}
