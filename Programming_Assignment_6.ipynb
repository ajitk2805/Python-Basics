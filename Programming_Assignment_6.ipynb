{
 "cells": [
  {
   "attachments": {},
   "cell_type": "markdown",
   "metadata": {},
   "source": [
    "# Python Basics: Prgoramming Assignment 6"
   ]
  },
  {
   "attachments": {},
   "cell_type": "markdown",
   "metadata": {},
   "source": [
    "1. Write a Python Program to Display Fibonacci Sequence Using Recursion?\n"
   ]
  },
  {
   "cell_type": "code",
   "execution_count": 7,
   "metadata": {},
   "outputs": [
    {
     "name": "stdout",
     "output_type": "stream",
     "text": [
      "Fibonacci sequence:\n",
      "0\n",
      "1\n",
      "1\n",
      "2\n",
      "3\n",
      "5\n",
      "8\n"
     ]
    }
   ],
   "source": [
    "def fibo(n):\n",
    "    try:\n",
    "        if n<=1:\n",
    "            return n\n",
    "        else:\n",
    "            return(fibo(n-1) + fibo(n-2))\n",
    "\n",
    "    except Exception as e:\n",
    "        print(e)\n",
    "\n",
    "nterms = 7\n",
    "try:\n",
    "    if nterms <= 0:\n",
    "        print(\"Please enter a positive integer\")\n",
    "    else:\n",
    "        print('Fibonacci sequence:')\n",
    "        for i in range(nterms):\n",
    "            print(fibo(i))\n",
    "except Exception as e:\n",
    "    print(e)"
   ]
  },
  {
   "attachments": {},
   "cell_type": "markdown",
   "metadata": {},
   "source": [
    "2. Write a Python Program to Find Factorial of Number Using Recursion?\n"
   ]
  },
  {
   "cell_type": "code",
   "execution_count": 12,
   "metadata": {},
   "outputs": [
    {
     "name": "stdout",
     "output_type": "stream",
     "text": [
      "The factorial of 7 is 5040\n"
     ]
    }
   ],
   "source": [
    "def factorial(num):\n",
    "    \"\"\"This function calculates the factorial of a given number\"\"\"\n",
    "    try:\n",
    "        if num==1:\n",
    "            return 1\n",
    "        else:\n",
    "            return num*factorial(num-1)\n",
    "    except Exception as e:\n",
    "        print(e)\n",
    "\n",
    "num=7\n",
    "try:\n",
    "    if num<0:\n",
    "        print(\"Factorial does not exist for negative numbers\")\n",
    "    elif num==0:\n",
    "        print('The factorial of 0 is 1')\n",
    "    else:\n",
    "        print(f\"The factorial of {num} is {factorial(num)}\")\n",
    "except Exception as e:\n",
    "    print(e)"
   ]
  },
  {
   "attachments": {},
   "cell_type": "markdown",
   "metadata": {},
   "source": [
    "3. Write a Python Program to calculate your Body Mass Index?"
   ]
  },
  {
   "cell_type": "code",
   "execution_count": 19,
   "metadata": {},
   "outputs": [
    {
     "data": {
      "text/plain": [
       "(24.22, 'Healthy')"
      ]
     },
     "execution_count": 19,
     "metadata": {},
     "output_type": "execute_result"
    }
   ],
   "source": [
    "def BMI(height,weight):\n",
    "    \"\"\"BMI is calculated using formula\n",
    "        BMI = (weight)/(height*height)\n",
    "        where,weight is in Kg and height is in meters\"\"\"\n",
    "    try:\n",
    "        bmi = round(weight/(height*height),2)\n",
    "        # Conditions to find out BMI category\n",
    "        if (bmi < 18.5):\n",
    "            return(bmi, \"underweight\")\n",
    "        \n",
    "        elif ( bmi >= 18.5 and bmi < 24.9):\n",
    "            return(bmi, \"Healthy\")\n",
    "        \n",
    "        elif ( bmi >= 24.9 and bmi < 30):\n",
    "            return(bmi, \"overweight\")\n",
    "        \n",
    "        elif ( bmi >=30):\n",
    "            return(bmi, \"Suffering from Obesity\")\n",
    "         \n",
    "    except Exception as e:\n",
    "        print(e)\n",
    "\n",
    "height = 1.7\n",
    "weight = 70\n",
    "\n",
    "BMI(height,weight)"
   ]
  },
  {
   "attachments": {},
   "cell_type": "markdown",
   "metadata": {},
   "source": [
    "4. Write a Python Program to calculate the natural logarithm of any number?\n"
   ]
  },
  {
   "cell_type": "code",
   "execution_count": 21,
   "metadata": {},
   "outputs": [
    {
     "data": {
      "text/plain": [
       "3.1354942159291497"
      ]
     },
     "execution_count": 21,
     "metadata": {},
     "output_type": "execute_result"
    }
   ],
   "source": [
    "def nat_log(num):\n",
    "    \"\"\"This function calculates the natural log of a given number\"\"\"\n",
    "    try:\n",
    "        import math\n",
    "        return math.log(num)\n",
    "    except Exception as e:\n",
    "        print(e)\n",
    "\n",
    "nat_log(23)"
   ]
  },
  {
   "attachments": {},
   "cell_type": "markdown",
   "metadata": {},
   "source": [
    "5. Write a Python Program for cube sum of first n natural numbers?\n"
   ]
  },
  {
   "cell_type": "code",
   "execution_count": 30,
   "metadata": {},
   "outputs": [
    {
     "data": {
      "text/plain": [
       "225"
      ]
     },
     "execution_count": 30,
     "metadata": {},
     "output_type": "execute_result"
    }
   ],
   "source": [
    "def cube_sum_of_series(n):\n",
    "    \"\"\"This function calculates the sum of first n natural numbers. The formula to calculate this is (n ( n + 1 ) / 2) ^ 2 \"\"\"\n",
    "    try:\n",
    "        sum = (n * ( n + 1 ) / 2) ** 2\n",
    "        return int(sum)\n",
    "    except Exception as e:\n",
    "        print(e)\n",
    "\n",
    "cube_sum_of_series(5) "
   ]
  },
  {
   "cell_type": "code",
   "execution_count": null,
   "metadata": {},
   "outputs": [],
   "source": []
  }
 ],
 "metadata": {
  "kernelspec": {
   "display_name": "base",
   "language": "python",
   "name": "python3"
  },
  "language_info": {
   "codemirror_mode": {
    "name": "ipython",
    "version": 3
   },
   "file_extension": ".py",
   "mimetype": "text/x-python",
   "name": "python",
   "nbconvert_exporter": "python",
   "pygments_lexer": "ipython3",
   "version": "3.8.5"
  },
  "orig_nbformat": 4
 },
 "nbformat": 4,
 "nbformat_minor": 2
}
