{
 "cells": [
  {
   "cell_type": "markdown",
   "id": "154e8f9a-14d8-4381-bb3d-d04445d829e2",
   "metadata": {},
   "source": [
    "# Python_Basics_Assignment 13"
   ]
  },
  {
   "cell_type": "markdown",
   "id": "aaa4eadf-3c46-493a-a411-f64ebec82e8b",
   "metadata": {},
   "source": [
    "1. What advantages do Excel spreadsheets have over CSV spreadsheets?\n"
   ]
  },
  {
   "cell_type": "markdown",
   "id": "1c5d4c8b-a86e-4e22-b389-764e4abf3984",
   "metadata": {},
   "source": [
    " - An Excel not only stores data but can also do operations on the data whereas a CSV file is just a text file, it stores data but does not contain formatting, formulas, macros, etc. It is also known as flat files.\n",
    " - In data-warehouse, Excel is preferable for detailed standardized schema specification while CSV follows a fairly flat, simple schema.\n",
    " - Reading large files is much easier in Excel for the end user. Also, you can have additional functions like selecting individual cells for import, convert dates and time automatically, reading formulas and their results, filters, sorting, etc.\n",
    " - Apart from text, data can also be stored in form of charts and graphs in Excel sheets. CSV can not store charts or graphs.\n",
    "- Excel can connect to external data sources to fetch data. You can use custom add-in in Excel to increase its functionality. Excel allows for Review of Data with detailed tracking and commenting feature. All this functionality is not possible in CSV."
   ]
  },
  {
   "cell_type": "markdown",
   "id": "ee6a8823-f5c7-47b4-b5fb-97f549200f44",
   "metadata": {},
   "source": [
    "2. What do you pass to csv.reader() and csv.writer() to create reader and writer objects?\n"
   ]
  },
  {
   "cell_type": "markdown",
   "id": "3ed009c6-2920-4498-a8c6-48ccd2a18fe5",
   "metadata": {},
   "source": [
    "First we need to open the csv file using the open() function and pass that file object to csv.reader() and csv.writer() objects. Note that we don’t pass a filename string directly to the csv.reader() function. Below is an example."
   ]
  },
  {
   "cell_type": "code",
   "execution_count": 2,
   "id": "34aef461-016f-44af-808c-c90b85671d04",
   "metadata": {},
   "outputs": [],
   "source": [
    "import csv\n",
    "csv_rowlist = [[\"SN\", \"Movie\", \"Protagonist\"], [1, \"Lord of the Rings\", \"Frodo Baggins\"],\n",
    "               [2, \"Harry Potter\", \"Harry Potter\"]]\n",
    "with open('protagonist.csv', 'w') as file:\n",
    "    writer = csv.writer(file)\n",
    "    writer.writerows(csv_rowlist)"
   ]
  },
  {
   "cell_type": "code",
   "execution_count": 11,
   "id": "42247bc7-abbf-49c9-ab4a-f92204f1bef5",
   "metadata": {},
   "outputs": [
    {
     "name": "stdout",
     "output_type": "stream",
     "text": [
      "['SN', 'Movie', 'Protagonist']\n",
      "['1', 'Lord of the Rings', 'Frodo Baggins']\n",
      "['2', 'Harry Potter', 'Harry Potter']\n"
     ]
    }
   ],
   "source": [
    "with open('protagonist.csv', 'r') as file:\n",
    "    reader = csv.reader(file)\n",
    "    for row in reader:\n",
    "        print(row)"
   ]
  },
  {
   "cell_type": "markdown",
   "id": "6e5f1ac1-536c-4290-902e-4a7a57511da0",
   "metadata": {},
   "source": [
    "3. What modes do File objects for reader and writer objects need to be opened in?"
   ]
  },
  {
   "cell_type": "markdown",
   "id": "ad431055-b34e-4d0a-9c70-1a27bbf483d9",
   "metadata": {},
   "source": [
    "File objects to be opened in read 'r' mode for reader() object and write 'w' mode for writer() objects."
   ]
  },
  {
   "cell_type": "markdown",
   "id": "09ab02fe-75c5-4f60-939e-eb5e5a9a38e4",
   "metadata": {},
   "source": [
    "4. What method takes a list argument and writes it to a CSV file?"
   ]
  },
  {
   "cell_type": "markdown",
   "id": "33a4d2d5-08b8-48f5-aaa2-f72e0fbcd4a2",
   "metadata": {},
   "source": [
    "The writerow() method for Writer objects takes a list argument. Each value in the list is placed in its own cell in the output CSV file."
   ]
  },
  {
   "cell_type": "markdown",
   "id": "7e12ed1c-da07-4c6c-8b98-7f68d6d82669",
   "metadata": {},
   "source": [
    "5. What do the keyword arguments delimiter and line terminator do?"
   ]
  },
  {
   "cell_type": "markdown",
   "id": "553dc392-49a2-47d0-830d-c74635066fa3",
   "metadata": {},
   "source": [
    "The delimiter is the character that appears between cells on a row. By default, the delimiter for a CSV file is a comma. The line terminator is the character that comes at the end of a row. By default, the line terminator is a newline. You can change characters to different values by using the delimiter and lineterminator keyword arguments with csv.writer()."
   ]
  },
  {
   "cell_type": "code",
   "execution_count": 23,
   "id": "53662433-a601-4966-90ee-0febfe0781b4",
   "metadata": {},
   "outputs": [],
   "source": [
    "import csv\n",
    "csvFile = open('example.tsv', 'w', newline='')\n",
    "csvWriter = csv.writer(csvFile, delimiter='\\t', lineterminator='\\n\\n')\n",
    "csvWriter.writerow(['apples', 'oranges', 'grapes'])\n",
    "csvWriter.writerow(['eggs', 'bacon', 'ham'])\n",
    "csvWriter.writerow(['spam', 'spam', 'spam', 'spam', 'spam', 'spam'])\n",
    "csvFile.close()"
   ]
  },
  {
   "cell_type": "markdown",
   "id": "0a78d48e-c7f4-4c5b-b685-385c8d6a4804",
   "metadata": {},
   "source": [
    "Passing delimeter='\\t' and lineterminator='\\n\\n' changes the character between cells to a tab and the character between rows to two newlines. Since the cells are separated by tabs, the file extension used is .tsv, for tab-separated values."
   ]
  },
  {
   "cell_type": "markdown",
   "id": "0096b386-8de9-4b1d-b819-e10536f068a8",
   "metadata": {},
   "source": [
    "6. What function takes a string of JSON data and returns a Python data structure?\n"
   ]
  },
  {
   "cell_type": "markdown",
   "id": "0896b6d7-7c96-4f27-807c-eb5854bb55dc",
   "metadata": {},
   "source": [
    "The json.loads() function translates a string of JSON data into a python value. (Here .loads means 'load string')"
   ]
  },
  {
   "cell_type": "code",
   "execution_count": 26,
   "id": "5bb83088-0c96-4bec-97b3-c69e064c70f2",
   "metadata": {},
   "outputs": [
    {
     "data": {
      "text/plain": [
       "{'name': 'Zophie', 'isCat': True, 'miceCaught': 0, 'felineIQ': None}"
      ]
     },
     "execution_count": 26,
     "metadata": {},
     "output_type": "execute_result"
    }
   ],
   "source": [
    "stringOfJsonData = '{\"name\": \"Zophie\", \"isCat\": true, \"miceCaught\": 0,\"felineIQ\": null}'\n",
    "import json\n",
    "jsonDataAsPythonValue = json.loads(stringOfJsonData)\n",
    "jsonDataAsPythonValue"
   ]
  },
  {
   "cell_type": "markdown",
   "id": "037b82d8-1483-4aeb-b8d2-f052478212b4",
   "metadata": {},
   "source": [
    "7. What function takes a Python data structure and returns a string of JSON data?\n"
   ]
  },
  {
   "cell_type": "markdown",
   "id": "c5b9e4b8-c4ff-4b91-9177-e7cf9c432780",
   "metadata": {},
   "source": [
    "The json.dumps() function (which means “dump string,” not “dumps”) will translate a Python value into a string of JSON-formatted data."
   ]
  },
  {
   "cell_type": "code",
   "execution_count": 27,
   "id": "3fac3adc-4bf9-45d9-8f07-e83dc1eddba3",
   "metadata": {},
   "outputs": [
    {
     "data": {
      "text/plain": [
       "'{\"isCat\": true, \"miceCaught\": 0, \"name\": \"Zophie\", \"felineIQ\": null}'"
      ]
     },
     "execution_count": 27,
     "metadata": {},
     "output_type": "execute_result"
    }
   ],
   "source": [
    "pythonValue = {'isCat': True, 'miceCaught': 0, 'name': 'Zophie','felineIQ': None}\n",
    "import json\n",
    "stringOfJsonData = json.dumps(pythonValue)\n",
    "stringOfJsonData"
   ]
  },
  {
   "cell_type": "code",
   "execution_count": null,
   "id": "472f587d-67fe-4139-8c67-ce6bee4e699c",
   "metadata": {},
   "outputs": [],
   "source": []
  }
 ],
 "metadata": {
  "kernelspec": {
   "display_name": "Python 3 (ipykernel)",
   "language": "python",
   "name": "python3"
  },
  "language_info": {
   "codemirror_mode": {
    "name": "ipython",
    "version": 3
   },
   "file_extension": ".py",
   "mimetype": "text/x-python",
   "name": "python",
   "nbconvert_exporter": "python",
   "pygments_lexer": "ipython3",
   "version": "3.10.6"
  }
 },
 "nbformat": 4,
 "nbformat_minor": 5
}
