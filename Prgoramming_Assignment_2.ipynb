{
 "cells": [
  {
   "attachments": {},
   "cell_type": "markdown",
   "metadata": {},
   "source": [
    "# Python Basics: Prgoramming Assignment 2"
   ]
  },
  {
   "attachments": {},
   "cell_type": "markdown",
   "metadata": {
    "vscode": {
     "languageId": "plaintext"
    }
   },
   "source": [
    "1. Write a Python program to convert kilometers to miles?"
   ]
  },
  {
   "cell_type": "code",
   "execution_count": 13,
   "metadata": {},
   "outputs": [
    {
     "name": "stdout",
     "output_type": "stream",
     "text": [
      "5 kilometers equals to 3.11 miles\n"
     ]
    }
   ],
   "source": [
    "def km_to_miles(km):\n",
    "    try:\n",
    "        \"\"\"This function converts kilometers to miles\"\"\"\n",
    "        miles = km * 0.62137\n",
    "        return round(miles,2)\n",
    "    except Exception as e:\n",
    "        print(e)\n",
    "km = 5\n",
    "print(f\"{km} kilometers equals to {km_to_miles(km)} miles\")\n",
    "\n"
   ]
  },
  {
   "attachments": {},
   "cell_type": "markdown",
   "metadata": {},
   "source": [
    "2. Write a Python program to convert Celsius to Fahrenheit"
   ]
  },
  {
   "cell_type": "code",
   "execution_count": 14,
   "metadata": {},
   "outputs": [
    {
     "name": "stdout",
     "output_type": "stream",
     "text": [
      "30 degree Celsius equals to 86.0 Fahrenheit\n"
     ]
    }
   ],
   "source": [
    "def cels_to_fahr(celsius):\n",
    "    try:\n",
    "        \"\"\"This function converts Celsius to Fahrenheit\"\"\"\n",
    "        fahrenheit = (celsius * 1.8) + 32\n",
    "        return round(fahrenheit,2)\n",
    "    except Exception as e:\n",
    "        print(e)    \n",
    "\n",
    "celsius = 30\n",
    "print(f\"{celsius} degree Celsius equals to {cels_to_fahr(celsius)} Fahrenheit\")\n"
   ]
  },
  {
   "attachments": {},
   "cell_type": "markdown",
   "metadata": {},
   "source": [
    "3. Write a Python program to display calendar?"
   ]
  },
  {
   "cell_type": "code",
   "execution_count": 15,
   "metadata": {},
   "outputs": [
    {
     "name": "stdout",
     "output_type": "stream",
     "text": [
      "    January 2023\n",
      "Mo Tu We Th Fr Sa Su\n",
      "                   1\n",
      " 2  3  4  5  6  7  8\n",
      " 9 10 11 12 13 14 15\n",
      "16 17 18 19 20 21 22\n",
      "23 24 25 26 27 28 29\n",
      "30 31\n",
      "\n"
     ]
    }
   ],
   "source": [
    "def show_calendar(year:int, month:int):\n",
    "    try:\n",
    "        \"\"\"This function displays the calendar for the given month and year\"\"\"\n",
    "        import calendar\n",
    "        print(calendar.month(year,month))\n",
    "    except Exception as e:\n",
    "        print(e)\n",
    "        \n",
    "show_calendar(2023,1)"
   ]
  },
  {
   "attachments": {},
   "cell_type": "markdown",
   "metadata": {},
   "source": [
    "4. Write a Python program to solve quadratic equation?"
   ]
  },
  {
   "cell_type": "code",
   "execution_count": 16,
   "metadata": {},
   "outputs": [
    {
     "name": "stdout",
     "output_type": "stream",
     "text": [
      "The solution are (-3+0j) and (-2+0j)\n"
     ]
    }
   ],
   "source": [
    "def quadratic_eq(a,b,c):\n",
    "    \"\"\"The standard form of a quadratic equation is:\n",
    "        ax2 + bx + c = 0, where\n",
    "        a, b and c are real numbers and\n",
    "        a ≠ 0\n",
    "        The solutions of this quadratic equation is given by: (-b ± (b ** 2 - 4 * a * c) ** 0.5) / (2 * a)\n",
    "    \"\"\"\n",
    "    try:\n",
    "        import cmath\n",
    "        # calculate the discriminant\n",
    "        d = (b**2) - (4*a*c)\n",
    "\n",
    "        # find two solutions\n",
    "        sol1 = (-b-cmath.sqrt(d))/(2*a)\n",
    "        sol2 = (-b+cmath.sqrt(d))/(2*a)\n",
    "        print(f\"The solution are {sol1} and {sol2}\")\n",
    "    except Exception as e:\n",
    "        print(e)\n",
    "        \n",
    "a,b,c = 2,10,12\n",
    "quadratic_eq(a,b,c)"
   ]
  },
  {
   "attachments": {},
   "cell_type": "markdown",
   "metadata": {},
   "source": [
    "5. Write a Python program to swap two variables without temp variable?"
   ]
  },
  {
   "cell_type": "code",
   "execution_count": 18,
   "metadata": {},
   "outputs": [
    {
     "name": "stdout",
     "output_type": "stream",
     "text": [
      "original value of a is python\n",
      "original value of b is 3.14\n",
      "new value of a is 3.14\n",
      "new value of b is python\n"
     ]
    },
    {
     "data": {
      "text/plain": [
       "(3.14, 'python')"
      ]
     },
     "execution_count": 18,
     "metadata": {},
     "output_type": "execute_result"
    }
   ],
   "source": [
    "\n",
    "def swap(a,b):\n",
    "    \"\"\"This program swaps the values of two variables a and b\"\"\"\n",
    "    try:\n",
    "        print(f\"original value of a is {a}\")\n",
    "        print(f\"original value of b is {b}\")\n",
    "        a,b = b,a\n",
    "        print(f\"new value of a is {a}\")\n",
    "        print(f\"new value of b is {b}\")\n",
    "        return a,b\n",
    "\n",
    "    except Exception as e:\n",
    "        print(e)\n",
    "\n",
    "a = 'python'\n",
    "b = 3.14\n",
    "swap(a,b)\n"
   ]
  },
  {
   "cell_type": "code",
   "execution_count": null,
   "metadata": {},
   "outputs": [],
   "source": []
  },
  {
   "cell_type": "code",
   "execution_count": null,
   "metadata": {},
   "outputs": [],
   "source": []
  }
 ],
 "metadata": {
  "kernelspec": {
   "display_name": "base",
   "language": "python",
   "name": "python3"
  },
  "language_info": {
   "codemirror_mode": {
    "name": "ipython",
    "version": 3
   },
   "file_extension": ".py",
   "mimetype": "text/x-python",
   "name": "python",
   "nbconvert_exporter": "python",
   "pygments_lexer": "ipython3",
   "version": "3.8.5"
  },
  "orig_nbformat": 4
 },
 "nbformat": 4,
 "nbformat_minor": 2
}
