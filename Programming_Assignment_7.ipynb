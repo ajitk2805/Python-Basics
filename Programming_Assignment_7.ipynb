{
 "cells": [
  {
   "attachments": {},
   "cell_type": "markdown",
   "metadata": {},
   "source": [
    "# Python Basics: Prgoramming Assignment 7"
   ]
  },
  {
   "attachments": {},
   "cell_type": "markdown",
   "metadata": {},
   "source": [
    "1. Write a Python Program to find sum of array?\n"
   ]
  },
  {
   "cell_type": "code",
   "execution_count": 3,
   "metadata": {},
   "outputs": [
    {
     "name": "stdout",
     "output_type": "stream",
     "text": [
      "sum of array is 671.752\n"
     ]
    }
   ],
   "source": [
    "def sum_of_arr(arr:list or tuple):\n",
    "    \"\"\"This function finds the sum of array\"\"\"\n",
    "    try:\n",
    "        sum = 0\n",
    "        for i in arr:\n",
    "            sum += i\n",
    "        return sum\n",
    "    except Exception as e:\n",
    "        print(e)\n",
    "\n",
    "arr = [453, 76, 92.752, 50]\n",
    "print(f\"sum of array is {sum_of_arr(arr)}\")"
   ]
  },
  {
   "attachments": {},
   "cell_type": "markdown",
   "metadata": {},
   "source": [
    "2. Write a Python Program to find largest element in an array?"
   ]
  },
  {
   "cell_type": "code",
   "execution_count": 11,
   "metadata": {},
   "outputs": [
    {
     "name": "stdout",
     "output_type": "stream",
     "text": [
      "The largest element of array is 48932 at index 1\n"
     ]
    }
   ],
   "source": [
    "def largest_element(arr):\n",
    "    \"\"\"This function finds the largest element in an array\"\"\"\n",
    "    try:\n",
    "        largest = 0\n",
    "        for i,j in enumerate(arr):\n",
    "            if i==0:\n",
    "                largest = j\n",
    "            else:\n",
    "                if j>largest:\n",
    "                    largest = j\n",
    "                    position = i\n",
    "        return largest,position\n",
    "    except Exception as e:\n",
    "        print(e)\n",
    "        \n",
    "arr = [-893.454,48932,5478,-5478]\n",
    "print(f\"The largest element of array is {largest_element(arr)[0]} at index {largest_element(arr)[1]}\")"
   ]
  },
  {
   "attachments": {},
   "cell_type": "markdown",
   "metadata": {},
   "source": [
    "3. Write a Python Program for array rotation?\n"
   ]
  },
  {
   "cell_type": "code",
   "execution_count": 22,
   "metadata": {},
   "outputs": [
    {
     "name": "stdout",
     "output_type": "stream",
     "text": [
      "[1, 2, 3, 4, 5, 6]\n",
      "Rotated list is\n",
      "[3, 4, 5, 6, 1, 2]\n"
     ]
    }
   ],
   "source": [
    "def rotateList(arr,d):\n",
    "    \"\"\"This program roates the array by d where n is length of array\"\"\"\n",
    "    try:\n",
    "        n = len(arr)\n",
    "        arr[:]=arr[d:n]+arr[0:d]\n",
    "        return arr\n",
    "    except Exception as e:\n",
    "        print(e)\n",
    "\n",
    "arr = [1, 2, 3, 4, 5, 6]\n",
    "print(arr)\n",
    "print(\"Rotated list is\")\n",
    "print(rotateList(arr,2))\n"
   ]
  },
  {
   "attachments": {},
   "cell_type": "markdown",
   "metadata": {},
   "source": [
    "4. Write a Python Program to Split the array and add the first part to the end?\n"
   ]
  },
  {
   "cell_type": "code",
   "execution_count": 27,
   "metadata": {},
   "outputs": [
    {
     "name": "stdout",
     "output_type": "stream",
     "text": [
      "[5, 6, 52, 36, 12, 10]\n"
     ]
    }
   ],
   "source": [
    "def splitArr(arr,k):\n",
    "    \"\"\"This function splits the array at position (index) k and adds the first part to the end\"\"\"\n",
    "    return (arr[k:] + arr[:k])\n",
    " \n",
    " \n",
    "arr = [12, 10, 5, 6, 52, 36]\n",
    "position = 2\n",
    "\n",
    "arr = splitArr(arr, position)\n",
    "print(arr)"
   ]
  },
  {
   "attachments": {},
   "cell_type": "markdown",
   "metadata": {},
   "source": [
    "5. Write a Python Program to check if given array is Monotonic?"
   ]
  },
  {
   "cell_type": "code",
   "execution_count": 35,
   "metadata": {},
   "outputs": [
    {
     "name": "stdout",
     "output_type": "stream",
     "text": [
      "True\n",
      "False\n",
      "True\n"
     ]
    }
   ],
   "source": [
    "def is_monotonic(arr):\n",
    "    \"\"\"This function checks if a given array is Monotonic or not. An array is monotonic if it is either monotone increasing or monotone decreasing. \n",
    "    An array A is monotone increasing if for all i <= j, A[i] <= A[j]. \n",
    "    An array A is monotone decreasing if for all i <= j, A[i] >= A[j]. \"\"\"\n",
    "    return (all(arr[i] <= arr[i + 1] for i in range(len(arr) - 1)) or all(arr[i] >= arr[i + 1] for i in range(len(arr) - 1)))\n",
    "\n",
    "arr1 = [1, 2, 2, 3, 4] \n",
    "arr2 = [1, 2, 6, 4, 5, 4]\n",
    "arr3 = [5, 4, 3, 2, 1]\n",
    "\n",
    "\n",
    "print(is_monotonic(arr1))\n",
    "print(is_monotonic(arr2))\n",
    "print(is_monotonic(arr3))"
   ]
  },
  {
   "cell_type": "code",
   "execution_count": null,
   "metadata": {},
   "outputs": [],
   "source": []
  },
  {
   "cell_type": "code",
   "execution_count": null,
   "metadata": {},
   "outputs": [],
   "source": []
  },
  {
   "cell_type": "code",
   "execution_count": null,
   "metadata": {},
   "outputs": [],
   "source": []
  },
  {
   "cell_type": "code",
   "execution_count": null,
   "metadata": {},
   "outputs": [],
   "source": []
  }
 ],
 "metadata": {
  "kernelspec": {
   "display_name": "base",
   "language": "python",
   "name": "python3"
  },
  "language_info": {
   "codemirror_mode": {
    "name": "ipython",
    "version": 3
   },
   "file_extension": ".py",
   "mimetype": "text/x-python",
   "name": "python",
   "nbconvert_exporter": "python",
   "pygments_lexer": "ipython3",
   "version": "3.8.5"
  },
  "orig_nbformat": 4
 },
 "nbformat": 4,
 "nbformat_minor": 2
}
