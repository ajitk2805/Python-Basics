{
 "cells": [
  {
   "attachments": {},
   "cell_type": "markdown",
   "metadata": {},
   "source": [
    "# Python Basics: Prgoramming Assignment 11"
   ]
  },
  {
   "attachments": {},
   "cell_type": "markdown",
   "metadata": {},
   "source": [
    "1. Write a Python program to find words which are greater than given length k?"
   ]
  },
  {
   "cell_type": "code",
   "execution_count": 6,
   "metadata": {},
   "outputs": [
    {
     "data": {
      "text/plain": [
       "['python', 'program']"
      ]
     },
     "execution_count": 6,
     "metadata": {},
     "output_type": "execute_result"
    }
   ],
   "source": [
    "def words_gt_k(inp_str:str,k:int):\n",
    "    \"\"\"This program finds the words which are greater than given length k\"\"\"\n",
    "    try:\n",
    "        new_list = []\n",
    "        for i in inp_str.split():\n",
    "            if len(i) > k:\n",
    "                new_list.append(i)\n",
    "        return new_list\n",
    "    except Exception as e:\n",
    "        print(e)\n",
    "\n",
    "inp_str = 'This is a python program'\n",
    "k=4\n",
    "words_gt_k(inp_str,k)"
   ]
  },
  {
   "attachments": {},
   "cell_type": "markdown",
   "metadata": {},
   "source": [
    "2. Write a Python program for removing i-th character from a string?\n"
   ]
  },
  {
   "cell_type": "code",
   "execution_count": 16,
   "metadata": {},
   "outputs": [
    {
     "data": {
      "text/plain": [
       "'This is a ython program'"
      ]
     },
     "execution_count": 16,
     "metadata": {},
     "output_type": "execute_result"
    }
   ],
   "source": [
    "def remove(inp_str:str,i:int):\n",
    "    \"\"\"This function removes the i-th (index) character from the input string.\"\"\"\n",
    "    try:\n",
    "        a = inp_str[:i]\n",
    "        b = inp_str[i+1:]\n",
    "        return a+b\n",
    "    except Exception as e:\n",
    "        print(e)\n",
    "\n",
    "inp_str = 'This is a python program'\n",
    "i=10\n",
    "remove(inp_str,i)"
   ]
  },
  {
   "attachments": {},
   "cell_type": "markdown",
   "metadata": {},
   "source": [
    "3. Write a Python program to split and join a string?"
   ]
  },
  {
   "cell_type": "code",
   "execution_count": 19,
   "metadata": {},
   "outputs": [
    {
     "data": {
      "text/plain": [
       "'This-is-a-python-program'"
      ]
     },
     "execution_count": 19,
     "metadata": {},
     "output_type": "execute_result"
    }
   ],
   "source": [
    "def split_and_join_string(inp_str:str,delimiter=' '):\n",
    "    \"\"\"This function splits the string and joins again with different delimiter. The default delimiter is space.\"\"\"\n",
    "    try:\n",
    "        list_string = inp_str.split()\n",
    "        new_string = delimiter.join(list_string)\n",
    "        return new_string\n",
    "    except Exception as e:\n",
    "        print(e)\n",
    "\n",
    "inp_str = 'This is a python program'\n",
    "split_and_join_string(inp_str,delimiter='-')"
   ]
  },
  {
   "attachments": {},
   "cell_type": "markdown",
   "metadata": {},
   "source": [
    "4. Write a Python to check if a given string is binary string or not?"
   ]
  },
  {
   "cell_type": "code",
   "execution_count": 28,
   "metadata": {},
   "outputs": [
    {
     "name": "stdout",
     "output_type": "stream",
     "text": [
      "True\n",
      "False\n"
     ]
    }
   ],
   "source": [
    "def is_binary(inp_str):\n",
    "    \"\"\"This function checks if the given string is a binary string or not. \"\"\"\n",
    "    try:\n",
    "        # this will raise value error if string is not of base 2\n",
    "        int(inp_str, 2)\n",
    "    except ValueError:\n",
    "        return False\n",
    "    return True\n",
    "\n",
    "print(is_binary('1010010110'))\n",
    "print(is_binary('134277'))"
   ]
  },
  {
   "attachments": {},
   "cell_type": "markdown",
   "metadata": {},
   "source": [
    "5. Write a Python program to find uncommon words from two Strings?"
   ]
  },
  {
   "cell_type": "code",
   "execution_count": 29,
   "metadata": {},
   "outputs": [
    {
     "data": {
      "text/plain": [
       "['program', 'a', 'This', 'easy', 'Learning']"
      ]
     },
     "execution_count": 29,
     "metadata": {},
     "output_type": "execute_result"
    }
   ],
   "source": [
    "def uncommon_words(A:str, B:str):\n",
    "    \"\"\"This function finds uncommon words from two strings\"\"\"\n",
    "    try:\n",
    "        A=A.split()\n",
    "        B=B.split()\n",
    "        x=[]\n",
    "        for i in A:\n",
    "            if i not in B:\n",
    "                x.append(i)\n",
    "        for i in B:\n",
    "            if i not in A:\n",
    "                x.append(i)\n",
    "        x=list(set(x))\n",
    "        return x\n",
    "    except Exception as e:\n",
    "        print(e)\n",
    "\n",
    "A = \"This is a python program\"\n",
    "B = \"Learning python is easy\"\n",
    "\n",
    "uncommon_words(A,B)"
   ]
  },
  {
   "attachments": {},
   "cell_type": "markdown",
   "metadata": {},
   "source": [
    "6. Write a Python to find all duplicate characters in string?"
   ]
  },
  {
   "cell_type": "code",
   "execution_count": 30,
   "metadata": {},
   "outputs": [
    {
     "name": "stdout",
     "output_type": "stream",
     "text": [
      "{'n', 'h', 'a', 's', 'c', 'u', 'r', 't', 'e', ' ', 'd', 'f', 'i'}\n"
     ]
    }
   ],
   "source": [
    "def find_duplicate_chars(inp_str):\n",
    "\t\"\"\"This function finds the duplicate characters in a string\"\"\"\n",
    "\t# Create empty sets to store unique and duplicate characters\n",
    "\tunique_chars = set()\n",
    "\tduplicate_chars = set()\n",
    "\n",
    "\t# Iterate through each character in the string\n",
    "\tfor char in inp_str:\n",
    "\t\t# If the character is already in unique_chars, it is a duplicate\n",
    "\t\tif char in unique_chars:\n",
    "\t\t\tduplicate_chars.add(char)\n",
    "\t\t# Otherwise, add it to unique_chars\n",
    "\t\telse:\n",
    "\t\t\tunique_chars.add(char)\n",
    "\treturn duplicate_chars\n",
    "\n",
    "inp_str = \"This function finds the duplicate characters in a string\"\n",
    "print(find_duplicate_chars(inp_str))"
   ]
  },
  {
   "attachments": {},
   "cell_type": "markdown",
   "metadata": {},
   "source": [
    "7. Write a Python Program to check if a string contains any special character?"
   ]
  },
  {
   "cell_type": "code",
   "execution_count": 47,
   "metadata": {},
   "outputs": [
    {
     "name": "stdout",
     "output_type": "stream",
     "text": [
      "True\n",
      "False\n"
     ]
    }
   ],
   "source": [
    "def has_special_char(inp_str):\n",
    "    \"\"\"This function finds if a string contains any special character\"\"\"\n",
    "    try:\n",
    "        flag = None\n",
    "        from string import punctuation\n",
    "        for char in inp_str:\n",
    "            if char in set(punctuation):\n",
    "                flag = True\n",
    "            else:\n",
    "                flag = False\n",
    "        return flag\n",
    "    except Exception as e:\n",
    "        print(e)\n",
    "\n",
    "inp_str1 = \"Hi, how are you?\"\n",
    "print(has_special_char(inp_str1))\n",
    "\n",
    "inp_str2 = \"Hi how are you\"\n",
    "print(has_special_char(inp_str2))"
   ]
  },
  {
   "cell_type": "code",
   "execution_count": null,
   "metadata": {},
   "outputs": [],
   "source": []
  }
 ],
 "metadata": {
  "kernelspec": {
   "display_name": "base",
   "language": "python",
   "name": "python3"
  },
  "language_info": {
   "codemirror_mode": {
    "name": "ipython",
    "version": 3
   },
   "file_extension": ".py",
   "mimetype": "text/x-python",
   "name": "python",
   "nbconvert_exporter": "python",
   "pygments_lexer": "ipython3",
   "version": "3.8.5"
  },
  "orig_nbformat": 4
 },
 "nbformat": 4,
 "nbformat_minor": 2
}
