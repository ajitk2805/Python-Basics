{
 "cells": [
  {
   "attachments": {},
   "cell_type": "markdown",
   "metadata": {},
   "source": [
    "# Python Basics: Prgoramming Assignment 9"
   ]
  },
  {
   "attachments": {},
   "cell_type": "markdown",
   "metadata": {},
   "source": [
    "1. Write a Python program to find sum of elements in list?"
   ]
  },
  {
   "cell_type": "code",
   "execution_count": 1,
   "metadata": {},
   "outputs": [
    {
     "data": {
      "text/plain": [
       "2532.23"
      ]
     },
     "execution_count": 1,
     "metadata": {},
     "output_type": "execute_result"
    }
   ],
   "source": [
    "def sum_of_list_elements(inp_list:list):\n",
    "    \"\"\"This function finds the sum of all the elements in the list\"\"\"\n",
    "    try:\n",
    "        result = 0\n",
    "        for i in inp_list:\n",
    "            result += i\n",
    "        \n",
    "        return result\n",
    "    except Exception as e:\n",
    "        print(e)\n",
    "\n",
    "inp_list = [100,50,54,657,2342,21,-766,74.23]\n",
    "sum_of_list_elements(inp_list)"
   ]
  },
  {
   "attachments": {},
   "cell_type": "markdown",
   "metadata": {},
   "source": [
    "2. Write a Python program to  Multiply all numbers in the list?"
   ]
  },
  {
   "cell_type": "code",
   "execution_count": 6,
   "metadata": {},
   "outputs": [
    {
     "data": {
      "text/plain": [
       "10950.0"
      ]
     },
     "execution_count": 6,
     "metadata": {},
     "output_type": "execute_result"
    }
   ],
   "source": [
    "def multiply_list_elements(inp_list):\n",
    "    \"\"\"This function multiplies all the elements in the list\"\"\"\n",
    "    try:\n",
    "        result = 1\n",
    "        for i in inp_list:\n",
    "            result = result * i\n",
    "\n",
    "        return result\n",
    "    except Exception as e:\n",
    "        print(e)\n",
    "\n",
    "inp_list = [10,50,-3,-7.3]\n",
    "multiply_list_elements(inp_list)"
   ]
  },
  {
   "attachments": {},
   "cell_type": "markdown",
   "metadata": {},
   "source": [
    "3. Write a Python program to find smallest number in a list?"
   ]
  },
  {
   "cell_type": "code",
   "execution_count": 9,
   "metadata": {},
   "outputs": [
    {
     "data": {
      "text/plain": [
       "-7"
      ]
     },
     "execution_count": 9,
     "metadata": {},
     "output_type": "execute_result"
    }
   ],
   "source": [
    "def find_smallest_num(inp_list:list):\n",
    "    \"\"\"This function finds the smallest number in the list\"\"\"\n",
    "    try:\n",
    "        temp = 0\n",
    "        for i,j in enumerate(inp_list):\n",
    "            if i==0:\n",
    "                temp=j\n",
    "            else:\n",
    "                if j<temp:\n",
    "                    temp = j\n",
    "        return temp\n",
    "    except Exception as e:\n",
    "        print(e)\n",
    "        \n",
    "inp_list = [3.6,768,221,7,-7,0]\n",
    "find_smallest_num(inp_list)"
   ]
  },
  {
   "attachments": {},
   "cell_type": "markdown",
   "metadata": {},
   "source": [
    "4. Write a Python program to find largest number in a list?"
   ]
  },
  {
   "cell_type": "code",
   "execution_count": 16,
   "metadata": {},
   "outputs": [
    {
     "data": {
      "text/plain": [
       "9999"
      ]
     },
     "execution_count": 16,
     "metadata": {},
     "output_type": "execute_result"
    }
   ],
   "source": [
    "def find_largest_num(inp_list:list):\n",
    "    \"\"\"This function finds the largest number in the list\"\"\"\n",
    "    try:\n",
    "        temp = 0\n",
    "        for i,j in enumerate(inp_list):\n",
    "            if i==0:\n",
    "                temp=j\n",
    "            else:\n",
    "                if j>temp:\n",
    "                    temp = j\n",
    "        return temp\n",
    "    except Exception as e:\n",
    "        print(e)\n",
    "        \n",
    "inp_list = [3.6,768,221,7,-7,0,9999]\n",
    "find_largest_num(inp_list)"
   ]
  },
  {
   "attachments": {},
   "cell_type": "markdown",
   "metadata": {},
   "source": [
    "5. Write a Python program to find second largest number in a list?"
   ]
  },
  {
   "cell_type": "code",
   "execution_count": 27,
   "metadata": {},
   "outputs": [
    {
     "data": {
      "text/plain": [
       "221"
      ]
     },
     "execution_count": 27,
     "metadata": {},
     "output_type": "execute_result"
    }
   ],
   "source": [
    "def find_second_largest_num(inp_list:list):\n",
    "    \"\"\"This function finds the second largest number in the list\"\"\"\n",
    "    try:\n",
    "        new_list = list(set(inp_list))\n",
    "        new_list.sort()\n",
    "        return new_list[-2]\n",
    "    except Exception as e:\n",
    "        print(e)\n",
    "        \n",
    "inp_list = [3.6,768,221,7,-7,0]\n",
    "find_second_largest_num(inp_list)"
   ]
  },
  {
   "attachments": {},
   "cell_type": "markdown",
   "metadata": {},
   "source": [
    "6. Write a Python program to find N largest elements from a list?\n"
   ]
  },
  {
   "cell_type": "code",
   "execution_count": 26,
   "metadata": {},
   "outputs": [
    {
     "data": {
      "text/plain": [
       "[7, 221, 768]"
      ]
     },
     "execution_count": 26,
     "metadata": {},
     "output_type": "execute_result"
    }
   ],
   "source": [
    "def find_N_largest_nums(inp_list:list,N:int):\n",
    "    \"\"\"This function finds the N largest numbers in the list\"\"\"\n",
    "    try:\n",
    "        inp_list.sort()\n",
    "        return inp_list[-N:]\n",
    "    except Exception as e:\n",
    "        print(e)\n",
    "        \n",
    "inp_list = [3.6,768,221,7,-7,0]\n",
    "N=3\n",
    "find_N_largest_nums(inp_list,N)"
   ]
  },
  {
   "attachments": {},
   "cell_type": "markdown",
   "metadata": {},
   "source": [
    "7. Write a Python program to print even numbers in a list?"
   ]
  },
  {
   "cell_type": "code",
   "execution_count": 29,
   "metadata": {},
   "outputs": [
    {
     "name": "stdout",
     "output_type": "stream",
     "text": [
      "768\n",
      "0\n",
      "234\n",
      "654\n"
     ]
    }
   ],
   "source": [
    "def even_nums(inp_list:list):\n",
    "    \"\"\"This function prints the even numbers in the given list\"\"\"\n",
    "    try:\n",
    "        for i in inp_list:\n",
    "            if i%2==0:\n",
    "                print(i)\n",
    "    except Exception as e:\n",
    "        print(e)\n",
    "\n",
    "inp_list = [3.6,768,221,7,-7,0,234,654]\n",
    "even_nums(inp_list)"
   ]
  },
  {
   "attachments": {},
   "cell_type": "markdown",
   "metadata": {},
   "source": [
    "8. Write a Python program to print odd numbers in a List?"
   ]
  },
  {
   "cell_type": "code",
   "execution_count": 31,
   "metadata": {},
   "outputs": [
    {
     "name": "stdout",
     "output_type": "stream",
     "text": [
      "221\n",
      "7\n",
      "-7\n"
     ]
    }
   ],
   "source": [
    "def even_nums(inp_list:list):\n",
    "    \"\"\"This function prints the odd numbers in the given list\"\"\"\n",
    "    try:\n",
    "        for i in inp_list:\n",
    "            if i%2!=0:\n",
    "                print(i)\n",
    "    except Exception as e:\n",
    "        print(e)\n",
    "\n",
    "inp_list = [768,221,7,-7,0,234,654]\n",
    "even_nums(inp_list)"
   ]
  },
  {
   "attachments": {},
   "cell_type": "markdown",
   "metadata": {},
   "source": [
    "9. Write a Python program to Remove empty List from List?\n"
   ]
  },
  {
   "cell_type": "code",
   "execution_count": 35,
   "metadata": {},
   "outputs": [
    {
     "data": {
      "text/plain": [
       "[5, 6, 3, 9]"
      ]
     },
     "execution_count": 35,
     "metadata": {},
     "output_type": "execute_result"
    }
   ],
   "source": [
    "def remove_empty_list(inp_list:list):\n",
    "    \"\"\"This function removes empty list from the given list\"\"\"\n",
    "    try:\n",
    "        result = list(filter(None,inp_list))\n",
    "        return result\n",
    "    except Exception as e:\n",
    "        print(e)\n",
    "\n",
    "inp_list = [5, 6, [], 3, [], [], 9]\n",
    "remove_empty_list(inp_list)"
   ]
  },
  {
   "attachments": {},
   "cell_type": "markdown",
   "metadata": {},
   "source": [
    "10. Write a Python program to Cloning or Copying a list?\n"
   ]
  },
  {
   "cell_type": "code",
   "execution_count": 37,
   "metadata": {},
   "outputs": [
    {
     "name": "stdout",
     "output_type": "stream",
     "text": [
      "Original List: [4, 8, 2, 10, 15, 18]\n",
      "After Cloning: [4, 8, 2, 10, 15, 18]\n"
     ]
    }
   ],
   "source": [
    "def clone(inp_list):\n",
    "    \"\"\"This function copies/clones the list\"\"\"\n",
    "    list_copy = inp_list[:]\n",
    "    return list_copy\n",
    "\n",
    "l1 = [4, 8, 2, 10, 15, 18]\n",
    "l2 = clone(l1)\n",
    "print(\"Original List:\", l1)\n",
    "print(\"After Cloning:\", l2)"
   ]
  },
  {
   "attachments": {},
   "cell_type": "markdown",
   "metadata": {},
   "source": [
    "11. Write a Python program to Count occurrences of an element in a list?"
   ]
  },
  {
   "cell_type": "code",
   "execution_count": 40,
   "metadata": {},
   "outputs": [
    {
     "name": "stdout",
     "output_type": "stream",
     "text": [
      "8 has occurred 5 times\n"
     ]
    }
   ],
   "source": [
    "def countX(inp_listst, x):\n",
    "    \"\"\"This function counts the occurrencces of the an element (x) in the given list\"\"\"\n",
    "    count = 0\n",
    "    for ele in inp_list:\n",
    "        if (ele == x):\n",
    "            count = count + 1\n",
    "    return count\n",
    "\n",
    "\n",
    "inp_list = [8, 6, 8, 10, 8, 20, 10, 8, 8]\n",
    "x = 8\n",
    "\n",
    "print('{} has occurred {} times'.format(x,countX(inp_list, x)))                                        "
   ]
  },
  {
   "cell_type": "code",
   "execution_count": null,
   "metadata": {},
   "outputs": [],
   "source": []
  },
  {
   "cell_type": "code",
   "execution_count": null,
   "metadata": {},
   "outputs": [],
   "source": []
  },
  {
   "cell_type": "code",
   "execution_count": null,
   "metadata": {},
   "outputs": [],
   "source": []
  }
 ],
 "metadata": {
  "kernelspec": {
   "display_name": "base",
   "language": "python",
   "name": "python3"
  },
  "language_info": {
   "codemirror_mode": {
    "name": "ipython",
    "version": 3
   },
   "file_extension": ".py",
   "mimetype": "text/x-python",
   "name": "python",
   "nbconvert_exporter": "python",
   "pygments_lexer": "ipython3",
   "version": "3.8.5"
  },
  "orig_nbformat": 4
 },
 "nbformat": 4,
 "nbformat_minor": 2
}
