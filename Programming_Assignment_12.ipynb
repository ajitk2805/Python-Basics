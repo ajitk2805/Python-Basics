{
 "cells": [
  {
   "attachments": {},
   "cell_type": "markdown",
   "metadata": {},
   "source": [
    "# Python Basics: Prgoramming Assignment 12"
   ]
  },
  {
   "attachments": {},
   "cell_type": "markdown",
   "metadata": {},
   "source": [
    "1. Write a Python program to Extract Unique values dictionary values?"
   ]
  },
  {
   "cell_type": "code",
   "execution_count": 20,
   "metadata": {},
   "outputs": [
    {
     "name": "stdout",
     "output_type": "stream",
     "text": [
      "The unique values list is : [1, 2, 5, 6, 7, 8, 10, 11, 12]\n"
     ]
    }
   ],
   "source": [
    "def uniq_dict_values(inp_dict):\n",
    "    \"\"\"This function return unique values in a dictionary.\"\"\"\n",
    "    from itertools import chain\n",
    "    result = list(sorted(set(chain(*inp_dict.values()))))\n",
    "    return result\n",
    "\n",
    "test_dict = {'a' : [5, 6, 7, 8],\n",
    "            'b' : [10, 11, 7, 5],\n",
    "            'c' : [6, 12, 10, 8],\n",
    "            'd' : [1, 2, 5]}\n",
    "\n",
    "print(f\"The unique values list is : {uniq_dict_values(test_dict)}\")\n",
    "\n"
   ]
  },
  {
   "attachments": {},
   "cell_type": "markdown",
   "metadata": {},
   "source": [
    "2. Write a Python program to find the sum of all items in a dictionary?"
   ]
  },
  {
   "cell_type": "code",
   "execution_count": 21,
   "metadata": {},
   "outputs": [
    {
     "data": {
      "text/plain": [
       "293"
      ]
     },
     "execution_count": 21,
     "metadata": {},
     "output_type": "execute_result"
    }
   ],
   "source": [
    "\n",
    "def sum_of_dict_values(inp_dict):\n",
    "    \"\"\"This function finds the sum of dictionary values\"\"\"\n",
    "    return sum(inp_dict.values())\n",
    "\n",
    "inp_dict = {'a':50, 'b':1231, 'c':-988}\n",
    "sum_of_dict_values(inp_dict)"
   ]
  },
  {
   "attachments": {},
   "cell_type": "markdown",
   "metadata": {},
   "source": [
    "3. Write a Python program to Merging two Dictionaries?"
   ]
  },
  {
   "cell_type": "code",
   "execution_count": 25,
   "metadata": {},
   "outputs": [
    {
     "name": "stdout",
     "output_type": "stream",
     "text": [
      "{'x': 10, 'y': 8, 'a': 6, 'b': 4}\n"
     ]
    }
   ],
   "source": [
    "def merge_dict(dict1, dict2):\n",
    "    \"\"\"This function merges the two given dictionaries.\"\"\"\n",
    "    result = {**dict1, **dict2}\n",
    "    return result\n",
    "\n",
    "dict1 = {'x': 10, 'y': 8}\n",
    "dict2 = {'a': 6, 'b': 4}\n",
    "dict3 = merge_dict(dict1, dict2)\n",
    "print(dict3)\n",
    " "
   ]
  },
  {
   "attachments": {},
   "cell_type": "markdown",
   "metadata": {},
   "source": [
    "4. Write a Python program to convert key-values list to flat dictionary?"
   ]
  },
  {
   "cell_type": "code",
   "execution_count": 47,
   "metadata": {},
   "outputs": [
    {
     "data": {
      "text/plain": [
       "{1: 'Jan', 2: 'Feb', 3: 'March', 4: 'Apr', 5: 'May', 6: 'June'}"
      ]
     },
     "execution_count": 47,
     "metadata": {},
     "output_type": "execute_result"
    }
   ],
   "source": [
    "def flat_dict(inp_dict):\n",
    "    \"\"\"This function converts the key-values list to a flat dictionary.\"\"\"\n",
    "\n",
    "    result = dict(zip(*inp_dict.values()))\n",
    "    return result\n",
    "\n",
    "my_dict = {'month_num' : [1, 2, 3, 4, 5, 6], 'name_of_month' : ['Jan', 'Feb', 'March', 'Apr', 'May', 'June']}\n",
    "flat_dict(my_dict)\n"
   ]
  },
  {
   "attachments": {},
   "cell_type": "markdown",
   "metadata": {},
   "source": [
    "5. Write a Python program to insertion at the beginning in OrderedDict?"
   ]
  },
  {
   "cell_type": "code",
   "execution_count": 57,
   "metadata": {},
   "outputs": [
    {
     "data": {
      "text/plain": [
       "OrderedDict([('D', '400'),\n",
       "             ('E', '500'),\n",
       "             ('A', '100'),\n",
       "             ('B', '200'),\n",
       "             ('C', '300')])"
      ]
     },
     "execution_count": 57,
     "metadata": {},
     "output_type": "execute_result"
    }
   ],
   "source": [
    "def insert_orddict(dict1, dict2):\n",
    "    \"\"\"This function inserts a new dictionary (dict2) items at the beginning in ordereddict\"\"\"\n",
    "    from collections import OrderedDict\n",
    "    result = OrderedDict(list(dict2.items()) + list(dict1.items()))\n",
    "    return result\n",
    "\n",
    "dict1 = OrderedDict([('A', '100'), ('B', '200'), ('C', '300')])\n",
    "dict2 = ({\"D\": '400',\"E\":\"500\"})\n",
    "insert_orddict(dict1,dict2)"
   ]
  },
  {
   "attachments": {},
   "cell_type": "markdown",
   "metadata": {},
   "source": [
    "6. Write a Python program to check order of character in string using OrderedDict()?"
   ]
  },
  {
   "cell_type": "code",
   "execution_count": 60,
   "metadata": {},
   "outputs": [
    {
     "data": {
      "text/plain": [
       "'The order of pattern is correct'"
      ]
     },
     "execution_count": 60,
     "metadata": {},
     "output_type": "execute_result"
    }
   ],
   "source": [
    "from collections import OrderedDict\n",
    "def check_order(my_input, my_pattern):\n",
    "   my_dict = OrderedDict.fromkeys(my_input)\n",
    "   pattern_length = 0\n",
    "   for key,value in my_dict.items():\n",
    "      if (key == my_pattern[pattern_length]):\n",
    "         pattern_length = pattern_length + 1\n",
    "\n",
    "      if (pattern_length == (len(my_pattern))):\n",
    "         return 'The order of pattern is correct'\n",
    "\n",
    "   return 'The order of pattern is incorrect'\n",
    "\n",
    "my_input = 'This is a python program'\n",
    "input_pattern = 'py'\n",
    "\n",
    "check_order(my_input,input_pattern)"
   ]
  },
  {
   "attachments": {},
   "cell_type": "markdown",
   "metadata": {},
   "source": [
    "7. Write a Python program to sort Python Dictionaries by Key or Value?\n"
   ]
  },
  {
   "cell_type": "code",
   "execution_count": 78,
   "metadata": {},
   "outputs": [
    {
     "name": "stdout",
     "output_type": "stream",
     "text": [
      "sorted dict by key:  {1: 2, 2: 56, 3: 323, 4: 24, 5: 12, 6: 18}\n",
      "sorted dict by value:  {1: 2, 5: 12, 6: 18, 4: 24, 2: 56, 3: 323}\n"
     ]
    }
   ],
   "source": [
    "def sorted_dict(inp_dict:dict,by:str):\n",
    "    \"\"\"This function sorts the given dictionary by key if by='key' or value is by='value' and returns the sorted dictionary.\"\"\"\n",
    "    try:\n",
    "        if by.lower() == 'key':\n",
    "            result = sorted(inp_dict.items(), key=lambda item: item[0])\n",
    "\n",
    "        elif by.lower() == 'value':\n",
    "            result = sorted(inp_dict.items(), key=lambda item: item[1])\n",
    "\n",
    "        sorted_dict = {}\n",
    "        for i in result:\n",
    "            sorted_dict[i[0]] = i[1]\n",
    "\n",
    "        return sorted_dict\n",
    "    except Exception as e:\n",
    "        print(e)\n",
    "\n",
    "key_value = {}\n",
    "key_value[2] = 56\n",
    "key_value[1] = 2\n",
    "key_value[5] = 12\n",
    "key_value[4] = 24\n",
    "key_value[6] = 18\n",
    "key_value[3] = 323\n",
    "\n",
    "print('sorted dict by key: ',sorted_dict(key_value,by='key'))\n",
    "print('sorted dict by value: ',sorted_dict(key_value,by='value'))"
   ]
  },
  {
   "cell_type": "code",
   "execution_count": null,
   "metadata": {},
   "outputs": [],
   "source": []
  }
 ],
 "metadata": {
  "kernelspec": {
   "display_name": "base",
   "language": "python",
   "name": "python3"
  },
  "language_info": {
   "codemirror_mode": {
    "name": "ipython",
    "version": 3
   },
   "file_extension": ".py",
   "mimetype": "text/x-python",
   "name": "python",
   "nbconvert_exporter": "python",
   "pygments_lexer": "ipython3",
   "version": "3.8.5"
  },
  "orig_nbformat": 4
 },
 "nbformat": 4,
 "nbformat_minor": 2
}
