{
 "cells": [
  {
   "attachments": {},
   "cell_type": "markdown",
   "metadata": {},
   "source": [
    "# Python Basics: Prgoramming Assignment 14"
   ]
  },
  {
   "attachments": {},
   "cell_type": "markdown",
   "metadata": {},
   "source": [
    "Question 1:\n",
    "\n",
    "Define a class with a generator which can iterate the numbers, which are divisible by 7, between a given range 0 and n.\n"
   ]
  },
  {
   "cell_type": "code",
   "execution_count": 6,
   "metadata": {},
   "outputs": [
    {
     "name": "stdout",
     "output_type": "stream",
     "text": [
      "0\n",
      "7\n",
      "14\n",
      "21\n",
      "28\n",
      "35\n",
      "42\n",
      "49\n"
     ]
    }
   ],
   "source": [
    "class generator:\n",
    "    def div_by_7(self,n):\n",
    "        for i in range(0,n+1):\n",
    "            if i%7==0:\n",
    "                yield i\n",
    "\n",
    "obj = generator()\n",
    "for i in obj.div_by_7(50):\n",
    "    print(i)"
   ]
  },
  {
   "attachments": {},
   "cell_type": "markdown",
   "metadata": {},
   "source": [
    "Question 2:\n",
    "Write a program to compute the frequency of the words from the input. The output should output after sorting the key alphanumerically. \n",
    "\n",
    "\n",
    "\n",
    "\n",
    "Suppose the following input is supplied to the program:\n",
    "\n",
    "\n",
    "\n",
    "\n",
    "New to Python or choosing between Python 2 and Python 3? Read Python 2 or Python 3.\n",
    "\n",
    "\n",
    "\n",
    "\n",
    "Then, the output should be:\n",
    "\n",
    "\n",
    "\n",
    "\n",
    "2:2\n",
    "\n",
    "\n",
    "\n",
    "\n",
    "3.:1\n",
    "\n",
    "\n",
    "\n",
    "\n",
    "3?:1\n",
    "\n",
    "\n",
    "\n",
    "\n",
    "New:1\n",
    "\n",
    "\n",
    "\n",
    "\n",
    "Python:5\n",
    "\n",
    "\n",
    "\n",
    "\n",
    "Read:1\n",
    "\n",
    "\n",
    "\n",
    "\n",
    "and:1\n",
    "\n",
    "\n",
    "\n",
    "\n",
    "between:1\n",
    "\n",
    "\n",
    "\n",
    "\n",
    "choosing:1\n",
    "\n",
    "\n",
    "\n",
    "\n",
    "or:2\n",
    "\n",
    "\n",
    "\n",
    "to:1\n"
   ]
  },
  {
   "cell_type": "code",
   "execution_count": 23,
   "metadata": {},
   "outputs": [
    {
     "name": "stdout",
     "output_type": "stream",
     "text": [
      "2:2\n",
      "3.:1\n",
      "3?:1\n",
      "New:1\n",
      "Python:5\n",
      "Read:1\n",
      "and:1\n",
      "between:1\n",
      "choosing:1\n",
      "or:2\n",
      "to:1\n"
     ]
    }
   ],
   "source": [
    "def freq_of_words(inp_str):\n",
    "    \"\"\"This function calculates the frequency of words in the given string. The output is an alphanumerically sorted dictionary.\"\"\"\n",
    "    list_of_words = inp_str.split()\n",
    "    dict_of_words = {}\n",
    "    for i in list_of_words:\n",
    "        if i in dict_of_words:\n",
    "            dict_of_words[i] += 1\n",
    "        else:\n",
    "            dict_of_words[i] = 1\n",
    "    result = dict(sorted(dict_of_words.items()))\n",
    "    for i in result:\n",
    "        print(f\"{i}:{result[i]}\")\n",
    "\n",
    "inp_str = \"New to Python or choosing between Python 2 and Python 3? Read Python 2 or Python 3.\"\n",
    "out_dict = freq_of_words(inp_str)"
   ]
  },
  {
   "attachments": {},
   "cell_type": "markdown",
   "metadata": {},
   "source": [
    "Question 3:\n",
    "\n",
    "Define a class Person and its two child classes: Male and Female. All classes have a method \"getGender\" which can print \"Male\" for Male class and \"Female\" for Female class.\n"
   ]
  },
  {
   "cell_type": "code",
   "execution_count": 24,
   "metadata": {},
   "outputs": [
    {
     "name": "stdout",
     "output_type": "stream",
     "text": [
      "Male\n",
      "Female\n"
     ]
    }
   ],
   "source": [
    "class Person:\n",
    "    def getGender(self):\n",
    "        pass\n",
    "\n",
    "\n",
    "class Male(Person):\n",
    "    def getGender(self):\n",
    "        print(\"Male\")\n",
    "\n",
    "\n",
    "class Female(Person):\n",
    "    def getGender(self):\n",
    "        print(\"Female\")\n",
    "\n",
    "\n",
    "# Creating instances of the child classes and call the getGender method\n",
    "male = Male()\n",
    "female = Female()\n",
    "\n",
    "male.getGender()   # Output: Male\n",
    "female.getGender() # Output: Female\n"
   ]
  },
  {
   "attachments": {},
   "cell_type": "markdown",
   "metadata": {},
   "source": [
    "Question 4:\n",
    "Please write a program to generate all sentences where subject is in [\"I\", \"You\"] and verb is in [\"Play\", \"Love\"] and the object is in [\"Hockey\",\"Football\"].\n"
   ]
  },
  {
   "cell_type": "code",
   "execution_count": 28,
   "metadata": {},
   "outputs": [
    {
     "name": "stdout",
     "output_type": "stream",
     "text": [
      "I Play Hockey\n",
      "I Play Football\n",
      "I Love Hockey\n",
      "I Love Football\n",
      "You Play Hockey\n",
      "You Play Football\n",
      "You Love Hockey\n",
      "You Love Football\n"
     ]
    }
   ],
   "source": [
    "subject = [\"I\", \"You\"]\n",
    "verb = [\"Play\", \"Love\"]\n",
    "obj = [\"Hockey\",\"Football\"]\n",
    "\n",
    "for i in subject:\n",
    "    for j in verb:\n",
    "        for k in obj:\n",
    "            print(f\"{i} {j} {k}\")"
   ]
  },
  {
   "attachments": {},
   "cell_type": "markdown",
   "metadata": {},
   "source": [
    "Question 5:\n",
    "Please write a program to compress and decompress the string \"hello world!hello world!hello world!hello world!\".\n"
   ]
  },
  {
   "cell_type": "code",
   "execution_count": 33,
   "metadata": {},
   "outputs": [
    {
     "name": "stdout",
     "output_type": "stream",
     "text": [
      "Compressed data: b'x\\x9c\\xcbH\\xcd\\xc9\\xc9W(\\xcf/\\xcaIQ\\xcc \\x82\\r\\x00\\xbd[\\x11\\xf5'\n",
      "Decompressed data: hello world!hello world!hello world!hello world!\n"
     ]
    }
   ],
   "source": [
    "import zlib\n",
    "\n",
    "def compress_string(string):\n",
    "    compressed_data = zlib.compress(bytes(string, 'utf-8'))\n",
    "    return compressed_data\n",
    "\n",
    "def decompress_string(compressed_data):\n",
    "    decompressed_data = zlib.decompress(compressed_data)\n",
    "    return decompressed_data.decode('utf-8')\n",
    "\n",
    "# Original string\n",
    "original_string = \"hello world!hello world!hello world!hello world!\"\n",
    "\n",
    "# Compress the string\n",
    "compressed_string = compress_string(original_string)\n",
    "print(\"Compressed data:\", compressed_string)\n",
    "\n",
    "# Decompress the string\n",
    "decompressed_string = decompress_string(compressed_string)\n",
    "print(\"Decompressed data:\", decompressed_string)\n"
   ]
  },
  {
   "attachments": {},
   "cell_type": "markdown",
   "metadata": {},
   "source": [
    "Question 6:\n",
    "Please write a binary search function which searches an item in a sorted list. The function should return the index of element to be searched in the list.\n"
   ]
  },
  {
   "cell_type": "code",
   "execution_count": 32,
   "metadata": {},
   "outputs": [
    {
     "name": "stdout",
     "output_type": "stream",
     "text": [
      "Item 23 found at index 5\n"
     ]
    }
   ],
   "source": [
    "def binary_search(arr, item):\n",
    "    low = 0\n",
    "    high = len(arr) - 1\n",
    "\n",
    "    while low <= high:\n",
    "        mid = (low + high) // 2\n",
    "        guess = arr[mid]\n",
    "\n",
    "        if guess == item:\n",
    "            return mid\n",
    "        elif guess > item:\n",
    "            high = mid - 1\n",
    "        else:\n",
    "            low = mid + 1\n",
    "\n",
    "    return -1  # Item not found\n",
    "\n",
    "\n",
    "# Example usage:\n",
    "sorted_list = [2, 5, 8, 12, 16, 23, 38, 56, 72, 91]\n",
    "item_to_search = 23\n",
    "\n",
    "index = binary_search(sorted_list, item_to_search)\n",
    "\n",
    "if index != -1:\n",
    "    print(f\"Item {item_to_search} found at index {index}\")\n",
    "else:\n",
    "    print(\"Item not found in the list\")\n"
   ]
  },
  {
   "cell_type": "code",
   "execution_count": null,
   "metadata": {},
   "outputs": [],
   "source": []
  }
 ],
 "metadata": {
  "kernelspec": {
   "display_name": "base",
   "language": "python",
   "name": "python3"
  },
  "language_info": {
   "codemirror_mode": {
    "name": "ipython",
    "version": 3
   },
   "file_extension": ".py",
   "mimetype": "text/x-python",
   "name": "python",
   "nbconvert_exporter": "python",
   "pygments_lexer": "ipython3",
   "version": "3.8.5"
  },
  "orig_nbformat": 4
 },
 "nbformat": 4,
 "nbformat_minor": 2
}
