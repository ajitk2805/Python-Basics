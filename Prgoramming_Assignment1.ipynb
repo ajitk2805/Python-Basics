{
 "cells": [
  {
   "attachments": {},
   "cell_type": "markdown",
   "metadata": {},
   "source": [
    "# Python Basics: Prgoramming Assignment 1"
   ]
  },
  {
   "attachments": {},
   "cell_type": "markdown",
   "metadata": {},
   "source": [
    "1. Write a Python program to print \"Hello Python\"?"
   ]
  },
  {
   "cell_type": "code",
   "execution_count": 1,
   "metadata": {},
   "outputs": [
    {
     "name": "stdout",
     "output_type": "stream",
     "text": [
      "Hello Python\n"
     ]
    }
   ],
   "source": [
    "print(\"Hello Python\")"
   ]
  },
  {
   "attachments": {},
   "cell_type": "markdown",
   "metadata": {},
   "source": [
    "2. Write a Python program to do arithmetical operations addition and division.?"
   ]
  },
  {
   "cell_type": "code",
   "execution_count": 6,
   "metadata": {},
   "outputs": [
    {
     "name": "stdout",
     "output_type": "stream",
     "text": [
      "15\n",
      "0.5\n"
     ]
    }
   ],
   "source": [
    "# Function for addition\n",
    "def add(a,b):\n",
    "    \"\"\"This function adds two numbers a and b\"\"\"\n",
    "    try:\n",
    "        return a + b\n",
    "    except Exception as e:\n",
    "        print(e)\n",
    "\n",
    "# Function for division\n",
    "def div(a,b):\n",
    "    \"\"\"This function divides a by b\"\"\"\n",
    "    try:\n",
    "        return a/b\n",
    "    except Exception as e:\n",
    "        print(e)\n",
    "a = 5\n",
    "b = 10\n",
    "print(add(a,b))\n",
    "print(div(a,b))"
   ]
  },
  {
   "attachments": {},
   "cell_type": "markdown",
   "metadata": {},
   "source": [
    "3. Write a Python program to find the area of a triangle?"
   ]
  },
  {
   "cell_type": "code",
   "execution_count": 7,
   "metadata": {},
   "outputs": [
    {
     "name": "stdout",
     "output_type": "stream",
     "text": [
      "Area of triangle with sides (4, 5, 6) is 9.921567416492215\n"
     ]
    }
   ],
   "source": [
    "def area_of_triangle(a,b,c):\n",
    "    \"\"\"This function calculates the area of triangle with sides a,b,c\"\"\"\n",
    "    try:\n",
    "        # calculate the semi-perimeter  \n",
    "        s = (a + b + c) / 2  \n",
    "        # calculate the area  \n",
    "        area = (s*(s-a)*(s-b)*(s-c)) ** 0.5  \n",
    "        return area\n",
    "    except Exception as e:\n",
    "        print(e)\n",
    "\n",
    "a,b,c = 4,5,6\n",
    "print(f\"Area of triangle with sides {a,b,c} is {area_of_triangle(a,b,c)}\")\n"
   ]
  },
  {
   "attachments": {},
   "cell_type": "markdown",
   "metadata": {},
   "source": [
    "4. Write a Python program to swap two variables?"
   ]
  },
  {
   "cell_type": "code",
   "execution_count": 12,
   "metadata": {},
   "outputs": [
    {
     "name": "stdout",
     "output_type": "stream",
     "text": [
      "original value of a is python\n",
      "original value of b is 3.14\n",
      "new value of a is 3.14\n",
      "new value of b is python\n"
     ]
    },
    {
     "data": {
      "text/plain": [
       "(3.14, 'python')"
      ]
     },
     "execution_count": 12,
     "metadata": {},
     "output_type": "execute_result"
    }
   ],
   "source": [
    "\n",
    "def swap(a,b):\n",
    "    \"\"\"This program swaps the values of two variables a and b\"\"\"\n",
    "    try:\n",
    "        print(f\"original value of a is {a}\")\n",
    "        print(f\"original value of b is {b}\")\n",
    "        a,b = b,a\n",
    "        print(f\"new value of a is {a}\")\n",
    "        print(f\"new value of b is {b}\")\n",
    "        return a,b\n",
    "\n",
    "    except Exception as e:\n",
    "        print(e)\n",
    "\n",
    "a = 'python'\n",
    "b = 3.14\n",
    "swap(a,b)\n"
   ]
  },
  {
   "attachments": {},
   "cell_type": "markdown",
   "metadata": {},
   "source": [
    "5. Write a Python program to generate a random number?"
   ]
  },
  {
   "cell_type": "code",
   "execution_count": 18,
   "metadata": {},
   "outputs": [
    {
     "name": "stdout",
     "output_type": "stream",
     "text": [
      "6\n"
     ]
    }
   ],
   "source": [
    "# program to generate random integer between -100 to 100\n",
    "import random\n",
    "print(random.randint(-100,100))"
   ]
  },
  {
   "cell_type": "code",
   "execution_count": null,
   "metadata": {},
   "outputs": [],
   "source": []
  },
  {
   "cell_type": "code",
   "execution_count": null,
   "metadata": {},
   "outputs": [],
   "source": []
  }
 ],
 "metadata": {
  "kernelspec": {
   "display_name": "base",
   "language": "python",
   "name": "python3"
  },
  "language_info": {
   "codemirror_mode": {
    "name": "ipython",
    "version": 3
   },
   "file_extension": ".py",
   "mimetype": "text/x-python",
   "name": "python",
   "nbconvert_exporter": "python",
   "pygments_lexer": "ipython3",
   "version": "3.8.5"
  },
  "orig_nbformat": 4
 },
 "nbformat": 4,
 "nbformat_minor": 2
}
