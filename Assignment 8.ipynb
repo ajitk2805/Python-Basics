{
 "cells": [
  {
   "cell_type": "markdown",
   "id": "133e99e1-c5eb-483c-a146-31283b909741",
   "metadata": {},
   "source": [
    "# Python_Basics_Assignment 8"
   ]
  },
  {
   "cell_type": "markdown",
   "id": "0b567f5e-66b6-4cee-9ba2-a81bb082c0ca",
   "metadata": {},
   "source": [
    "1. Is the Python Standard Library included with PyInputPlus?"
   ]
  },
  {
   "cell_type": "markdown",
   "id": "dfb4fe1c-ddf6-4b9a-b981-f0ba7aa0a729",
   "metadata": {},
   "source": [
    "PyInputPlus is not a part of the Python Standard Library, we must install it separately using Pip.\n",
    "\n",
    "!pip install pyinputplus"
   ]
  },
  {
   "cell_type": "markdown",
   "id": "46f344d7-2ec3-419b-b8ba-0ae106e4811c",
   "metadata": {},
   "source": [
    "2. Why is PyInputPlus commonly imported with import pyinputplus as pypi?"
   ]
  },
  {
   "cell_type": "markdown",
   "id": "f5599966-7036-4657-8fb6-b581175568d8",
   "metadata": {},
   "source": [
    "pyip is an alias of PyInputPlus. We can call the library by its alias instead of using its full name. "
   ]
  },
  {
   "cell_type": "markdown",
   "id": "cb440bbf-6bba-4822-aaa0-e5cc59a64dfe",
   "metadata": {},
   "source": [
    "3. How do you distinguish between inputInt() and inputFloat()?\n"
   ]
  },
  {
   "cell_type": "markdown",
   "id": "b5d01fb5-253a-4774-af3e-485de68336bb",
   "metadata": {},
   "source": [
    "inputInt() : Accepts an integer value, and returns int value\n",
    "\n",
    "inputFloat() : Accepts integer/floating point value and returns float value"
   ]
  },
  {
   "cell_type": "markdown",
   "id": "9269b5e0-5621-4c5a-a7be-2055bc305088",
   "metadata": {},
   "source": [
    "4. Using PyInputPlus, how do you ensure that the user enters a whole number between 0 and 99?"
   ]
  },
  {
   "cell_type": "markdown",
   "id": "d55537c1-60c9-4c5e-bfc8-11279cfe4edf",
   "metadata": {},
   "source": [
    "In the inputint function we can set the min = 0 and max =99 to ensure user enters number between 0 and 99"
   ]
  },
  {
   "cell_type": "code",
   "execution_count": 8,
   "id": "91d973c0-a4a0-4c26-8c82-57f755d815f6",
   "metadata": {},
   "outputs": [
    {
     "name": "stdin",
     "output_type": "stream",
     "text": [
      " 100\n"
     ]
    },
    {
     "name": "stdout",
     "output_type": "stream",
     "text": [
      "Number must be at maximum 99.\n"
     ]
    },
    {
     "name": "stdin",
     "output_type": "stream",
     "text": [
      " 5\n"
     ]
    },
    {
     "data": {
      "text/plain": [
       "5"
      ]
     },
     "execution_count": 8,
     "metadata": {},
     "output_type": "execute_result"
    }
   ],
   "source": [
    "pyip.inputInt(min = 0, max =99)"
   ]
  },
  {
   "cell_type": "markdown",
   "id": "22d2ff3f-a9a5-455c-9114-7fc2bff752ae",
   "metadata": {},
   "source": [
    "5. What is transferred to the keyword arguments allowRegexes and blockRegexes?"
   ]
  },
  {
   "cell_type": "markdown",
   "id": "dccc61c6-a425-4636-a205-8849486903e9",
   "metadata": {},
   "source": [
    "We can also use regular expressions to specify whether an input is allowed or not. The allowRegexes and blockRegexes\n",
    "keyword arguments take a list of regular expression strings to determine what the PyInputPlus function will accept or reject as valid input."
   ]
  },
  {
   "cell_type": "markdown",
   "id": "100252e7-c8df-4e0e-9c05-6104507762c2",
   "metadata": {},
   "source": [
    "6. If a blank input is entered three times, what does inputStr(limit=3) do?"
   ]
  },
  {
   "cell_type": "markdown",
   "id": "b2460697-8503-4a90-bf0b-3cfbecec2bd7",
   "metadata": {},
   "source": [
    "It will throw RetryLimitException exception."
   ]
  },
  {
   "cell_type": "markdown",
   "id": "ee9ec6f9-7697-41cf-9c82-9d465be48eec",
   "metadata": {},
   "source": [
    "7. If blank input is entered three times, what does inputStr(limit=3, default='hello') do?\n"
   ]
  },
  {
   "cell_type": "markdown",
   "id": "b3b8690d-11d2-43dd-9f60-947ca54d786f",
   "metadata": {},
   "source": [
    "When we use limit keyword arguments and also pass a default keyword argument, the function returns the default value instead of raising an exception.\n",
    "So this code will return 'hello'."
   ]
  },
  {
   "cell_type": "code",
   "execution_count": null,
   "id": "fb89fcf2-7592-4bf1-9793-fd8c678338f5",
   "metadata": {},
   "outputs": [],
   "source": []
  }
 ],
 "metadata": {
  "kernelspec": {
   "display_name": "Python 3 (ipykernel)",
   "language": "python",
   "name": "python3"
  },
  "language_info": {
   "codemirror_mode": {
    "name": "ipython",
    "version": 3
   },
   "file_extension": ".py",
   "mimetype": "text/x-python",
   "name": "python",
   "nbconvert_exporter": "python",
   "pygments_lexer": "ipython3",
   "version": "3.10.6"
  }
 },
 "nbformat": 4,
 "nbformat_minor": 5
}
